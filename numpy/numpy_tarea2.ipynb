{
 "cells": [
  {
   "cell_type": "markdown",
   "metadata": {},
   "source": [
    "<img src=\"datamecum_logo.png\" align=\"right\" style=\"float\" width=\"400\">\n",
    "<font color=\"#CA3532\"><h1 align=\"left\">Programa técnico intensivo en data science. Datamecum.</h1></font>\n",
    "<font color=\"#6E6E6E\"><h2 align=\"left\">Módulo Introducción a Matematicas</h2></font> \n",
    "<font color=\"#6E6E6E\"><h2 align=\"left\">Tarea 2.</h2></font> \n",
    "\n",
    "#### Juan Gómez-Sanchis\n",
    "##### Alumna: Maria Balos"
   ]
  },
  {
   "cell_type": "markdown",
   "metadata": {},
   "source": [
    "TO DO: *\n",
    "* Ejercicio 1. Crea un notebook de jupyter denominado Tarea11.ipynb y a continuación crea un vector fila que contenga los numeros enteros del 20 al 30.\n",
    "* Ejercicio 2. Crea otro array seleccionando los 6 primeros elementos del array que has creado en el ejercicio anterior. \n",
    "* Ejercicio 3. Crea un vector fila llamado Ejer3a con los números enteros del 100 al 200. Cuando lo hayas hecho crea un nuevo vector denominado Ejer3b que contenga las 10 primeras posiciones de Ejer3a.\n",
    "* Ejercicio 4. En el array resultado del ejercicio 3 (Ejer3b) haz que en las posiciones pares el valor sea 9999. Comprueba el valor del array Ejer3a. Cómo explicas el resultado al visualizar Ejer3a?. Cómo lo resolverías?\n",
    "* Ejercicio 5. Crea un array 3x3 denominado Ejer5a que contenga los números enteros del 9 al 1 dispuestos en filas. Crea un un array denominado Ejer5b que contenga las 2 primeras filas de Ejer5a. Crea un un array denominado Ejer5c que contenga las 2 primeras columnas de Ejer5a. Crea un un array denominado Ejer5c que contenga la submatriz 2x2 de la parte inferior izquierda de Ejer5a."
   ]
  },
  {
   "cell_type": "code",
   "execution_count": 9,
   "metadata": {},
   "outputs": [],
   "source": [
    "import numpy as np"
   ]
  },
  {
   "cell_type": "markdown",
   "metadata": {},
   "source": [
    "* Ejercicio 1. Crea un notebook de jupyter denominado Tarea11.ipynb y a continuación crea un vector fila que contenga los numeros enteros del 20 al 30."
   ]
  },
  {
   "cell_type": "code",
   "execution_count": 8,
   "metadata": {},
   "outputs": [
    {
     "data": {
      "text/plain": [
       "[20, 22, 24, 26, 28]"
      ]
     },
     "execution_count": 8,
     "metadata": {},
     "output_type": "execute_result"
    }
   ],
   "source": [
    "def generate_pair_numbers(range_list: list) -> list:\n",
    "    \"\"\"A piece of code that returns the pairs for a range of numbers.\n",
    "\n",
    "    Args:\n",
    "        range_list (list): A list with the range being the first element the start and the second one the end.\n",
    "\n",
    "    Returns:\n",
    "        list: The list with the pair elements.\n",
    "    \"\"\"\n",
    "    numbers = []\n",
    "    for number in range (range_list[0], range_list[1]):\n",
    "        if number %2==0:\n",
    "            numbers.append(number)\n",
    "    return numbers\n",
    "\n",
    "my_list = generate_pair_numbers([20,30])\n",
    "my_list"
   ]
  },
  {
   "cell_type": "markdown",
   "metadata": {},
   "source": [
    "* Ejercicio 2. Crea otro array seleccionando los 6 primeros elementos del array que has creado en el ejercicio anterior. "
   ]
  },
  {
   "cell_type": "code",
   "execution_count": 11,
   "metadata": {},
   "outputs": [
    {
     "data": {
      "text/plain": [
       "array([20, 22, 24])"
      ]
     },
     "execution_count": 11,
     "metadata": {},
     "output_type": "execute_result"
    }
   ],
   "source": [
    "np.array(my_list[:3])"
   ]
  },
  {
   "cell_type": "markdown",
   "metadata": {},
   "source": [
    "* Ejercicio 3. Crea un vector fila llamado Ejer3a con los números enteros del 100 al 200. Cuando lo hayas hecho crea un nuevo vector denominado Ejer3b que contenga las 10 primeras posiciones de Ejer3a."
   ]
  },
  {
   "cell_type": "code",
   "execution_count": 18,
   "metadata": {},
   "outputs": [
    {
     "data": {
      "text/plain": [
       "array([100, 101, 102, 103, 104, 105, 106, 107, 108, 109, 110, 111, 112,\n",
       "       113, 114, 115, 116, 117, 118, 119, 120, 121, 122, 123, 124, 125,\n",
       "       126, 127, 128, 129, 130, 131, 132, 133, 134, 135, 136, 137, 138,\n",
       "       139, 140, 141, 142, 143, 144, 145, 146, 147, 148, 149, 150, 151,\n",
       "       152, 153, 154, 155, 156, 157, 158, 159, 160, 161, 162, 163, 164,\n",
       "       165, 166, 167, 168, 169, 170, 171, 172, 173, 174, 175, 176, 177,\n",
       "       178, 179, 180, 181, 182, 183, 184, 185, 186, 187, 188, 189, 190,\n",
       "       191, 192, 193, 194, 195, 196, 197, 198, 199, 200])"
      ]
     },
     "execution_count": 18,
     "metadata": {},
     "output_type": "execute_result"
    }
   ],
   "source": [
    "ejer3a = np.arange(100,201)\n",
    "ejer3a"
   ]
  },
  {
   "cell_type": "code",
   "execution_count": 19,
   "metadata": {},
   "outputs": [
    {
     "data": {
      "text/plain": [
       "array([100, 101, 102, 103, 104, 105, 106, 107, 108, 109])"
      ]
     },
     "execution_count": 19,
     "metadata": {},
     "output_type": "execute_result"
    }
   ],
   "source": [
    "ejer3b = ejer3a[:10]\n",
    "ejer3b"
   ]
  },
  {
   "cell_type": "markdown",
   "metadata": {},
   "source": [
    "* Ejercicio 4. En el array resultado del ejercicio 3 (Ejer3b) haz que en las posiciones pares el valor sea 9999. Comprueba el valor del array Ejer3a. Cómo explicas el resultado al visualizar Ejer3a?. Cómo lo resolverías?"
   ]
  },
  {
   "cell_type": "code",
   "execution_count": 70,
   "metadata": {},
   "outputs": [
    {
     "data": {
      "text/plain": [
       "array([9999,  101, 9999,  103, 9999,  105, 9999,  107, 9999,  109])"
      ]
     },
     "execution_count": 70,
     "metadata": {},
     "output_type": "execute_result"
    }
   ],
   "source": [
    "def sustitute_pair_elements(array_elem, new_number: int) -> None:\n",
    "    \"\"\"A code block that takes an array element and add a given number to the positions where the elements are pairs.\n",
    "\n",
    "    Args:\n",
    "        array_elem (_type_): The array to be modified.\n",
    "        new_number (int): The number whith which it would be substituted the original one.\n",
    "    \"\"\"\n",
    "    for element in array_elem:\n",
    "        if element % 2 == 0:\n",
    "            positions = np.where (array_elem == element)\n",
    "            for position in positions:\n",
    "                array_elem[position] = new_number\n",
    "ejer3b"
   ]
  },
  {
   "cell_type": "markdown",
   "metadata": {},
   "source": [
    "* Ejercicio 5. Crea un array 3x3 denominado Ejer5a que contenga los números enteros del 9 al 1 dispuestos en filas. Crea un array denominado Ejer5b que contenga las 2 primeras filas de Ejer5a. Crea un un array denominado Ejer5c que contenga las 2 primeras columnas de Ejer5a. Crea un un array denominado Ejer5d que contenga la submatriz 2x2 de la parte inferior izquierda de Ejer5a."
   ]
  },
  {
   "cell_type": "code",
   "execution_count": 61,
   "metadata": {},
   "outputs": [
    {
     "data": {
      "text/plain": [
       "array([[9, 8, 7],\n",
       "       [6, 5, 4],\n",
       "       [3, 2, 1]])"
      ]
     },
     "execution_count": 61,
     "metadata": {},
     "output_type": "execute_result"
    }
   ],
   "source": [
    "#create a 3x3 array with the real elements from 9 to 1.\n",
    "ejer5a = [[9,8,7],[6,5,4],[3,2,1]]\n",
    "ejer5a = np.array(ejer5a)\n",
    "ejer5a"
   ]
  },
  {
   "cell_type": "code",
   "execution_count": 65,
   "metadata": {},
   "outputs": [
    {
     "data": {
      "text/plain": [
       "array([[9, 8, 7],\n",
       "       [6, 5, 4]])"
      ]
     },
     "execution_count": 65,
     "metadata": {},
     "output_type": "execute_result"
    }
   ],
   "source": [
    "#Create the variable ejer5b with the first row of ejer5a.\n",
    "ejer5b = ejer5a[:2, :]\n",
    "ejer5b"
   ]
  },
  {
   "cell_type": "code",
   "execution_count": 66,
   "metadata": {},
   "outputs": [
    {
     "data": {
      "text/plain": [
       "array([[9, 8],\n",
       "       [6, 5],\n",
       "       [3, 2]])"
      ]
     },
     "execution_count": 66,
     "metadata": {},
     "output_type": "execute_result"
    }
   ],
   "source": [
    "#Create the variable ejer5c with the first 2 col of ejer5a.\n",
    "ejer5c = ejer5a[:, :2]\n",
    "ejer5c"
   ]
  },
  {
   "cell_type": "code",
   "execution_count": 69,
   "metadata": {},
   "outputs": [
    {
     "data": {
      "text/plain": [
       "array([[6, 5],\n",
       "       [3, 2]])"
      ]
     },
     "execution_count": 69,
     "metadata": {},
     "output_type": "execute_result"
    }
   ],
   "source": [
    "#Create the variable ejer5d with the first 2x2 submatriz of the bottom left side of ejer5a.\n",
    "ejer5d = ejer5a[1:, :2]\n",
    "ejer5d"
   ]
  }
 ],
 "metadata": {
  "kernelspec": {
   "display_name": "Python 3 (ipykernel)",
   "language": "python",
   "name": "python3"
  },
  "language_info": {
   "codemirror_mode": {
    "name": "ipython",
    "version": 3
   },
   "file_extension": ".py",
   "mimetype": "text/x-python",
   "name": "python",
   "nbconvert_exporter": "python",
   "pygments_lexer": "ipython3",
   "version": "3.8.9"
  }
 },
 "nbformat": 4,
 "nbformat_minor": 4
}
