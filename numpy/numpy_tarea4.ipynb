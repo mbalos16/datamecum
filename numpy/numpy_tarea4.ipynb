{
 "cells": [
  {
   "cell_type": "markdown",
   "metadata": {},
   "source": [
    "<img src=\"datamecum_logo.png\" align=\"right\" style=\"float\" width=\"400\">\n",
    "<font color=\"#CA3532\"><h1 align=\"left\">Programa técnico intensivo en data science. Datamecum.</h1></font>\n",
    "<font color=\"#6E6E6E\"><h2 align=\"left\">Módulo Introducción a Matematicas</h2></font> \n",
    "<font color=\"#6E6E6E\"><h2 align=\"left\">Tarea 4.</h2></font> \n",
    "\n",
    "#### Juan Gómez-Sanchis\n",
    "##### Alumna: Maria Balos"
   ]
  },
  {
   "cell_type": "markdown",
   "metadata": {},
   "source": [
    "TO DO: \n",
    "* Crea un notebook de jupyter denominado Tarea13.ipynb.\n",
    "* Crea una matriz denominada Ejer3 de tamaño 50x50 cuyos elementos constituyan una distribución normal aleatoria de media 0 y desviacion típica unidad.\n",
    "* A partir de la matriz Ejer3, calcula:\n",
    "  * La media de los elementos de la matriz\n",
    "  * La desviación típica de los elementos de la matriz\n",
    "  * La media de los elementos de cada fila de la matriz.\n",
    "  * La desviación típica de los elementos de cada fila de la matriz. \n",
    "  * La suma de los elementos de cada fila de la matriz.\n",
    "  * La suma de los elementos de cada columna de la matriz.\n",
    "* Guarda el array anterior en un fichero explorando las diferentes opciones de almacenar arrays.\n",
    "* Intenta cargar algunos de los ficheros almacenados."
   ]
  },
  {
   "cell_type": "code",
   "execution_count": 3,
   "metadata": {},
   "outputs": [],
   "source": [
    "import numpy as np"
   ]
  },
  {
   "cell_type": "markdown",
   "metadata": {},
   "source": [
    "* Crea una matriz denominada Ejer3 de tamaño 50x50 cuyos elementos constituyan una distribución normal aleatoria de media 0 y desviacion típica unidad."
   ]
  },
  {
   "cell_type": "code",
   "execution_count": 11,
   "metadata": {},
   "outputs": [
    {
     "data": {
      "text/plain": [
       "array([[-1.14555214,  0.88797318,  2.14046375, ..., -1.22647133,\n",
       "        -0.10996861,  1.98138366],\n",
       "       [-0.40275915,  1.33630985,  0.56544527, ...,  1.33228121,\n",
       "        -0.02624088, -0.03403078],\n",
       "       [ 1.50193542,  0.80872396,  0.33568364, ..., -1.34633078,\n",
       "        -0.47033168, -0.29398009],\n",
       "       ...,\n",
       "       [ 1.60972799, -0.40824089, -1.03014133, ..., -0.92640214,\n",
       "         0.52021654,  0.19582188],\n",
       "       [-0.73450897,  1.16889733, -0.41357135, ...,  0.41724378,\n",
       "        -0.46539303,  0.61292025],\n",
       "       [-1.07869831,  0.83139423,  1.41952977, ..., -0.1434244 ,\n",
       "         1.5683625 , -0.55378431]])"
      ]
     },
     "execution_count": 11,
     "metadata": {},
     "output_type": "execute_result"
    }
   ],
   "source": [
    "ejer3 = np.random.randn(50,50)\n",
    "ejer3"
   ]
  },
  {
   "cell_type": "code",
   "execution_count": 12,
   "metadata": {},
   "outputs": [
    {
     "data": {
      "text/plain": [
       "(array([  5.,  23., 135., 387., 637., 715., 404., 158.,  32.,   4.]),\n",
       " array([-3.77026062, -3.026772  , -2.28328337, -1.53979475, -0.79630613,\n",
       "        -0.05281751,  0.69067112,  1.43415974,  2.17764836,  2.92113698,\n",
       "         3.66462561]),\n",
       " <BarContainer object of 10 artists>)"
      ]
     },
     "execution_count": 12,
     "metadata": {},
     "output_type": "execute_result"
    },
    {
     "data": {
      "image/png": "[encoded data removed]",
      "text/plain": [
       "<Figure size 640x480 with 1 Axes>"
      ]
     },
     "metadata": {},
     "output_type": "display_data"
    }
   ],
   "source": [
    "import matplotlib.pyplot as plt\n",
    "plt.hist(ejer3.reshape(-1))"
   ]
  },
  {
   "cell_type": "markdown",
   "metadata": {},
   "source": [
    "* A partir de la matriz Ejer3, calcula:\n",
    "  * La media de los elementos de la matriz"
   ]
  },
  {
   "cell_type": "code",
   "execution_count": 13,
   "metadata": {},
   "outputs": [
    {
     "data": {
      "text/plain": [
       "-0.0002655299731088677"
      ]
     },
     "execution_count": 13,
     "metadata": {},
     "output_type": "execute_result"
    }
   ],
   "source": [
    "ejer3.mean()"
   ]
  },
  {
   "cell_type": "markdown",
   "metadata": {},
   "source": [
    "* A partir de la matriz Ejer3, calcula:\n",
    "  * La desviación típica de los elementos de la matriz"
   ]
  },
  {
   "cell_type": "code",
   "execution_count": 14,
   "metadata": {},
   "outputs": [
    {
     "data": {
      "text/plain": [
       "1.00771616623841"
      ]
     },
     "execution_count": 14,
     "metadata": {},
     "output_type": "execute_result"
    }
   ],
   "source": [
    "np.std(ejer3)"
   ]
  },
  {
   "cell_type": "markdown",
   "metadata": {},
   "source": [
    " * A partir de la matriz Ejer3, calcula:\n",
    "    * La media de los elementos de cada fila de la matriz."
   ]
  },
  {
   "cell_type": "code",
   "execution_count": 15,
   "metadata": {},
   "outputs": [
    {
     "data": {
      "text/plain": [
       "array([ 0.00331904,  0.28182554, -0.07945456, -0.08367737,  0.06373717,\n",
       "       -0.1191584 , -0.05381942, -0.28043413, -0.01138194, -0.19586935,\n",
       "       -0.03833998,  0.03104831,  0.28482997,  0.16864784, -0.09329286,\n",
       "       -0.11982726,  0.11215497, -0.25192599, -0.26904182,  0.35236751,\n",
       "        0.2127435 , -0.07567264, -0.01121621,  0.02841555,  0.00122504,\n",
       "        0.02139129,  0.02688434,  0.06177577,  0.1116974 , -0.23239135,\n",
       "       -0.11152819, -0.10278697, -0.00844297, -0.00893723,  0.09420951,\n",
       "       -0.13718945,  0.15405439,  0.16573282,  0.26748479, -0.05898315,\n",
       "        0.33711049,  0.14099539, -0.11223536, -0.16503179, -0.42525989,\n",
       "        0.00975486,  0.06151036, -0.15273565,  0.18276106,  0.00968053])"
      ]
     },
     "execution_count": 15,
     "metadata": {},
     "output_type": "execute_result"
    }
   ],
   "source": [
    "ejer3.mean(0)"
   ]
  },
  {
   "cell_type": "markdown",
   "metadata": {},
   "source": [
    "* A partir de la matriz Ejer3, calcula:\n",
    "  * La desviación típica de los elementos de cada fila de la matriz. "
   ]
  },
  {
   "cell_type": "code",
   "execution_count": 17,
   "metadata": {},
   "outputs": [
    {
     "data": {
      "text/plain": [
       "array([1.11198991, 0.78174609, 0.90058803, 1.13054427, 1.12950771,\n",
       "       1.00298921, 1.0885996 , 0.90861472, 0.82554457, 1.20005282,\n",
       "       0.89221902, 1.10978698, 1.01564278, 0.78920345, 1.13590511,\n",
       "       0.99119186, 0.9523765 , 0.94321967, 1.06055508, 1.01708007,\n",
       "       1.0227419 , 0.95721873, 0.99692398, 0.82782557, 1.11800249,\n",
       "       0.92934879, 1.00465725, 0.89581644, 1.08965094, 1.02930349,\n",
       "       1.08266463, 0.93117754, 1.0348444 , 1.00829326, 0.9034661 ,\n",
       "       1.1623731 , 0.93000706, 0.87923039, 0.97685752, 1.0080611 ,\n",
       "       1.06439178, 0.70398273, 0.8983956 , 0.96480792, 0.92848861,\n",
       "       0.98235294, 0.98549204, 1.01845129, 1.02361423, 1.0921747 ])"
      ]
     },
     "execution_count": 17,
     "metadata": {},
     "output_type": "execute_result"
    }
   ],
   "source": [
    "ejer3.std(0)"
   ]
  },
  {
   "cell_type": "markdown",
   "metadata": {},
   "source": [
    "* A partir de la matriz Ejer3, calcula:\n",
    "  * La suma de los elementos de cada fila de la matriz."
   ]
  },
  {
   "cell_type": "code",
   "execution_count": 18,
   "metadata": {},
   "outputs": [
    {
     "data": {
      "text/plain": [
       "array([  0.16595204,  14.091277  ,  -3.97272812,  -4.18386858,\n",
       "         3.1868583 ,  -5.95791977,  -2.69097112, -14.02170625,\n",
       "        -0.56909724,  -9.79346756,  -1.91699917,   1.55241526,\n",
       "        14.24149847,   8.43239219,  -4.66464323,  -5.99136297,\n",
       "         5.60774846, -12.59629973, -13.45209123,  17.61837539,\n",
       "        10.63717484,  -3.78363207,  -0.56081028,   1.4207777 ,\n",
       "         0.06125222,   1.06956451,   1.34421697,   3.08878858,\n",
       "         5.58486975, -11.61956736,  -5.57640935,  -5.13934852,\n",
       "        -0.42214866,  -0.44686134,   4.71047549,  -6.85947272,\n",
       "         7.70271956,   8.28664106,  13.37423965,  -2.94915743,\n",
       "        16.85552464,   7.04976947,  -5.61176805,  -8.25158942,\n",
       "       -21.26299442,   0.48774296,   3.07551795,  -7.63678244,\n",
       "         9.13805292,   0.48402671])"
      ]
     },
     "execution_count": 18,
     "metadata": {},
     "output_type": "execute_result"
    }
   ],
   "source": [
    "ejer3.sum(0)"
   ]
  },
  {
   "cell_type": "markdown",
   "metadata": {},
   "source": [
    "* A partir de la matriz Ejer3, calcula:\n",
    "   * La suma de los elementos de cada columna de la matriz."
   ]
  },
  {
   "cell_type": "code",
   "execution_count": 19,
   "metadata": {},
   "outputs": [
    {
     "data": {
      "text/plain": [
       "array([  3.90135639,   1.15468913,   4.87457641,  -3.97816689,\n",
       "        -7.51321884, -21.54556133,   6.61914922,  -9.98135142,\n",
       "         3.28693439,  11.45352733,   6.48469813,   0.86289841,\n",
       "        -0.92560152,  -5.11139246,   8.72605369,   4.66504135,\n",
       "        13.98373493, -11.43278569,   3.84069584,  -8.61669949,\n",
       "        -6.08009517,  11.80805325,  -3.63376209,  -5.35675857,\n",
       "        -0.96124266,   8.02507137,   5.37911482,  -8.69400181,\n",
       "        -2.01617762,   8.45164529,  -8.57980664,  -1.09611618,\n",
       "         1.74925107,  -0.08779416,  -7.03070772,   7.55975021,\n",
       "        -2.50601619,  -1.68607238,   3.98636685,   4.27857538,\n",
       "       -11.09848367,   7.39110313,   3.56994745,   0.34647453,\n",
       "       -10.50879359, -10.21194184,   4.34772948,  -8.44601747,\n",
       "         8.59232738,  11.095975  ])"
      ]
     },
     "execution_count": 19,
     "metadata": {},
     "output_type": "execute_result"
    }
   ],
   "source": [
    "ejer3.sum(1)"
   ]
  },
  {
   "cell_type": "markdown",
   "metadata": {},
   "source": [
    "* Guarda el array anterior en un fichero explorando las diferentes opciones de almacenar arrays."
   ]
  },
  {
   "cell_type": "code",
   "execution_count": 23,
   "metadata": {},
   "outputs": [],
   "source": [
    "np.save(\"ejercicio_3\", ejer3)"
   ]
  },
  {
   "cell_type": "code",
   "execution_count": 28,
   "metadata": {},
   "outputs": [],
   "source": [
    "ejer3_1 = np.random.randn(10,10)\n",
    "np.savez(\"exercicio_3_1.npz\",first = ejer3, second = ejer3_1)"
   ]
  },
  {
   "cell_type": "markdown",
   "metadata": {},
   "source": [
    "* Intenta cargar algunos de los ficheros almacenados."
   ]
  },
  {
   "cell_type": "code",
   "execution_count": 35,
   "metadata": {},
   "outputs": [],
   "source": [
    "arrays = np.load(\"ejercicio_3.npy\")"
   ]
  },
  {
   "cell_type": "code",
   "execution_count": 33,
   "metadata": {},
   "outputs": [
    {
     "data": {
      "text/plain": [
       "(10, 10)"
      ]
     },
     "execution_count": 33,
     "metadata": {},
     "output_type": "execute_result"
    }
   ],
   "source": [
    "arrays = np.load(\"exercicio_3_1.npz\")\n",
    "arrays[\"first\"].shape\n",
    "arrays[\"second\"].shape"
   ]
  }
 ],
 "metadata": {
  "kernelspec": {
   "display_name": "Python 3 (ipykernel)",
   "language": "python",
   "name": "python3"
  },
  "language_info": {
   "codemirror_mode": {
    "name": "ipython",
    "version": 3
   },
   "file_extension": ".py",
   "mimetype": "text/x-python",
   "name": "python",
   "nbconvert_exporter": "python",
   "pygments_lexer": "ipython3",
   "version": "3.8.9"
  }
 },
 "nbformat": 4,
 "nbformat_minor": 4
}
