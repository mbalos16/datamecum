{
 "cells": [
  {
   "cell_type": "markdown",
   "metadata": {},
   "source": [
    "<img src=\"datamecum_logo.png\" align=\"right\" style=\"float\" width=\"400\">\n",
    "<font color=\"#CA3532\"><h1 align=\"left\">Programa técnico intensivo en data science. Datamecum.</h1></font>\n",
    "<font color=\"#6E6E6E\"><h2 align=\"left\">Módulo Introducción a Matematicas</h2></font> \n",
    "<font color=\"#6E6E6E\"><h2 align=\"left\">Tarea 3.</h2></font> \n",
    "\n",
    "#### Juan Gómez-Sanchis\n",
    "##### Alumna: Maria Balos"
   ]
  },
  {
   "cell_type": "markdown",
   "metadata": {},
   "source": [
    "TO DO: \n",
    "* Ejercicio 1. Crea un notebook de jupyter denominado Tarea12.ipynb y a continuación crea un matriz denominada Ejer1 de 20 elementos del 0 al 20 y organizados en una matriz 2x10 \n",
    "* Ejercicio 2. Crea una matriz denominada Ejer2 de tamaño 2x10 compuesta por elementos iguales 10. Realiza la operación matricial Ejer1·T(Ejer2).\n",
    "* Ejercicio 3. Crea un tensor de orden de orden 3 denominado Ejer3 de tamaño 10x9x5 compuesto por elementos del 1 al 450 dispuestos en el tensor por filas dentro de la cada matriz del tensor.\n",
    "* Ejercicio 4.Vamos a jugar con el array Ejer3, y a comprobar lo que recuerdas de indexar arrays...\n",
    "  * Extrae la primera matriz 9x5 del tensor y denominalo Ejer4a\n",
    "  * Extrae la última matriz 9x5 del tensor y denominalo Ejer4b\n",
    "  * Realiza la operación matricial Ejer4a·T(Ejer4b)\n",
    "  * Extrae un vector denominado Ejer4c constituido por la segunda fila de la segunda matriz del tensor Ejer3.\n",
    "  * Extrae un vector denominado Ejer4d constituido por la primera fila de la tercera matriz del tensor Ejer3.\n",
    "  * Cuál es el valor del producto escalar de los vectores Ejer4c y Ejer4d?.\n",
    "  * Crea un vector columna denominado Ejer4e compuesto por lo elementos de la última columna de la primera matriz de Ejer3.\n",
    "  * Crea un vector columna denominado Ejer4f compuesto por los elementos de tercera columna de la cuarta matriz de Ejer3.\n",
    "  * Cuál es el valor del producto escalar de los vectores Ejer4e y Ejer4f?. Utiliza la función np.dot para conseguirlo"
   ]
  },
  {
   "cell_type": "code",
   "execution_count": 4,
   "metadata": {},
   "outputs": [],
   "source": [
    "import numpy as np"
   ]
  },
  {
   "cell_type": "markdown",
   "metadata": {},
   "source": [
    "Ejercicio 1. Crea un notebook de jupyter denominado Tarea12.ipynb y a continuación crea un matriz denominada Ejer1 de 20 elementos del 0 al 20 y organizados en una matriz 2x10 "
   ]
  },
  {
   "cell_type": "code",
   "execution_count": 5,
   "metadata": {},
   "outputs": [
    {
     "data": {
      "text/plain": [
       "array([[ 0,  1,  2,  3,  4,  5,  6,  7,  8,  9],\n",
       "       [10, 11, 12, 13, 14, 15, 16, 17, 18, 19]])"
      ]
     },
     "execution_count": 5,
     "metadata": {},
     "output_type": "execute_result"
    }
   ],
   "source": [
    "ejer1 = np.arange(20).reshape(2,10)\n",
    "ejer1"
   ]
  },
  {
   "cell_type": "markdown",
   "metadata": {},
   "source": [
    "Ejercicio 2. Crea una matriz denominada Ejer2 de tamaño 2x10 compuesta por elementos iguales 10."
   ]
  },
  {
   "cell_type": "code",
   "execution_count": 6,
   "metadata": {},
   "outputs": [
    {
     "data": {
      "text/plain": [
       "array([[10, 10, 10, 10, 10, 10, 10, 10, 10, 10],\n",
       "       [10, 10, 10, 10, 10, 10, 10, 10, 10, 10]])"
      ]
     },
     "execution_count": 6,
     "metadata": {},
     "output_type": "execute_result"
    }
   ],
   "source": [
    "ejer2 = np.full((2, 10), 10)\n",
    "ejer2"
   ]
  },
  {
   "cell_type": "markdown",
   "metadata": {},
   "source": [
    "Realiza la operación matricial Ejer1·T(Ejer2)."
   ]
  },
  {
   "cell_type": "code",
   "execution_count": 22,
   "metadata": {},
   "outputs": [
    {
     "data": {
      "text/plain": [
       "array([[ 450,  450],\n",
       "       [1450, 1450]])"
      ]
     },
     "execution_count": 22,
     "metadata": {},
     "output_type": "execute_result"
    }
   ],
   "source": [
    "#No es posible realizar la operacion  ya que las dos matrices no didponen de la misma forma.\n",
    "np.dot(ejer1, ejer2.T)"
   ]
  },
  {
   "cell_type": "markdown",
   "metadata": {},
   "source": [
    "* Ejercicio 3. Crea un tensor de orden 3 denominado Ejer3 de tamaño 10x9x5 compuesto por elementos del 1 al 450 dispuestos en el tensor por filas dentro de la cada matriz del tensor."
   ]
  },
  {
   "cell_type": "code",
   "execution_count": 23,
   "metadata": {},
   "outputs": [
    {
     "data": {
      "text/plain": [
       "array([[[  0,   1,   2,   3,   4],\n",
       "        [  5,   6,   7,   8,   9],\n",
       "        [ 10,  11,  12,  13,  14],\n",
       "        [ 15,  16,  17,  18,  19],\n",
       "        [ 20,  21,  22,  23,  24],\n",
       "        [ 25,  26,  27,  28,  29],\n",
       "        [ 30,  31,  32,  33,  34],\n",
       "        [ 35,  36,  37,  38,  39],\n",
       "        [ 40,  41,  42,  43,  44]],\n",
       "\n",
       "       [[ 45,  46,  47,  48,  49],\n",
       "        [ 50,  51,  52,  53,  54],\n",
       "        [ 55,  56,  57,  58,  59],\n",
       "        [ 60,  61,  62,  63,  64],\n",
       "        [ 65,  66,  67,  68,  69],\n",
       "        [ 70,  71,  72,  73,  74],\n",
       "        [ 75,  76,  77,  78,  79],\n",
       "        [ 80,  81,  82,  83,  84],\n",
       "        [ 85,  86,  87,  88,  89]],\n",
       "\n",
       "       [[ 90,  91,  92,  93,  94],\n",
       "        [ 95,  96,  97,  98,  99],\n",
       "        [100, 101, 102, 103, 104],\n",
       "        [105, 106, 107, 108, 109],\n",
       "        [110, 111, 112, 113, 114],\n",
       "        [115, 116, 117, 118, 119],\n",
       "        [120, 121, 122, 123, 124],\n",
       "        [125, 126, 127, 128, 129],\n",
       "        [130, 131, 132, 133, 134]],\n",
       "\n",
       "       [[135, 136, 137, 138, 139],\n",
       "        [140, 141, 142, 143, 144],\n",
       "        [145, 146, 147, 148, 149],\n",
       "        [150, 151, 152, 153, 154],\n",
       "        [155, 156, 157, 158, 159],\n",
       "        [160, 161, 162, 163, 164],\n",
       "        [165, 166, 167, 168, 169],\n",
       "        [170, 171, 172, 173, 174],\n",
       "        [175, 176, 177, 178, 179]],\n",
       "\n",
       "       [[180, 181, 182, 183, 184],\n",
       "        [185, 186, 187, 188, 189],\n",
       "        [190, 191, 192, 193, 194],\n",
       "        [195, 196, 197, 198, 199],\n",
       "        [200, 201, 202, 203, 204],\n",
       "        [205, 206, 207, 208, 209],\n",
       "        [210, 211, 212, 213, 214],\n",
       "        [215, 216, 217, 218, 219],\n",
       "        [220, 221, 222, 223, 224]],\n",
       "\n",
       "       [[225, 226, 227, 228, 229],\n",
       "        [230, 231, 232, 233, 234],\n",
       "        [235, 236, 237, 238, 239],\n",
       "        [240, 241, 242, 243, 244],\n",
       "        [245, 246, 247, 248, 249],\n",
       "        [250, 251, 252, 253, 254],\n",
       "        [255, 256, 257, 258, 259],\n",
       "        [260, 261, 262, 263, 264],\n",
       "        [265, 266, 267, 268, 269]],\n",
       "\n",
       "       [[270, 271, 272, 273, 274],\n",
       "        [275, 276, 277, 278, 279],\n",
       "        [280, 281, 282, 283, 284],\n",
       "        [285, 286, 287, 288, 289],\n",
       "        [290, 291, 292, 293, 294],\n",
       "        [295, 296, 297, 298, 299],\n",
       "        [300, 301, 302, 303, 304],\n",
       "        [305, 306, 307, 308, 309],\n",
       "        [310, 311, 312, 313, 314]],\n",
       "\n",
       "       [[315, 316, 317, 318, 319],\n",
       "        [320, 321, 322, 323, 324],\n",
       "        [325, 326, 327, 328, 329],\n",
       "        [330, 331, 332, 333, 334],\n",
       "        [335, 336, 337, 338, 339],\n",
       "        [340, 341, 342, 343, 344],\n",
       "        [345, 346, 347, 348, 349],\n",
       "        [350, 351, 352, 353, 354],\n",
       "        [355, 356, 357, 358, 359]],\n",
       "\n",
       "       [[360, 361, 362, 363, 364],\n",
       "        [365, 366, 367, 368, 369],\n",
       "        [370, 371, 372, 373, 374],\n",
       "        [375, 376, 377, 378, 379],\n",
       "        [380, 381, 382, 383, 384],\n",
       "        [385, 386, 387, 388, 389],\n",
       "        [390, 391, 392, 393, 394],\n",
       "        [395, 396, 397, 398, 399],\n",
       "        [400, 401, 402, 403, 404]],\n",
       "\n",
       "       [[405, 406, 407, 408, 409],\n",
       "        [410, 411, 412, 413, 414],\n",
       "        [415, 416, 417, 418, 419],\n",
       "        [420, 421, 422, 423, 424],\n",
       "        [425, 426, 427, 428, 429],\n",
       "        [430, 431, 432, 433, 434],\n",
       "        [435, 436, 437, 438, 439],\n",
       "        [440, 441, 442, 443, 444],\n",
       "        [445, 446, 447, 448, 449]]])"
      ]
     },
     "execution_count": 23,
     "metadata": {},
     "output_type": "execute_result"
    }
   ],
   "source": [
    "ejer3 = np.arange(450).reshape(10,9,5)\n",
    "ejer3"
   ]
  },
  {
   "cell_type": "markdown",
   "metadata": {},
   "source": [
    "Ejercicio 4. Vamos a jugar con el array Ejer3, y a comprobar lo que recuerdas de indexar arrays...\n",
    "  * Extrae la primera matriz 9x5 del tensor y denominalo Ejer4a"
   ]
  },
  {
   "cell_type": "code",
   "execution_count": 24,
   "metadata": {},
   "outputs": [
    {
     "data": {
      "text/plain": [
       "array([[ 0,  1,  2,  3,  4],\n",
       "       [ 5,  6,  7,  8,  9],\n",
       "       [10, 11, 12, 13, 14],\n",
       "       [15, 16, 17, 18, 19],\n",
       "       [20, 21, 22, 23, 24],\n",
       "       [25, 26, 27, 28, 29],\n",
       "       [30, 31, 32, 33, 34],\n",
       "       [35, 36, 37, 38, 39],\n",
       "       [40, 41, 42, 43, 44]])"
      ]
     },
     "execution_count": 24,
     "metadata": {},
     "output_type": "execute_result"
    }
   ],
   "source": [
    "ejer4a = ejer3[0]\n",
    "ejer4a"
   ]
  },
  {
   "cell_type": "markdown",
   "metadata": {},
   "source": [
    "* Extrae la última matriz 9x5 del tensor y denominalo Ejer4b"
   ]
  },
  {
   "cell_type": "code",
   "execution_count": 25,
   "metadata": {},
   "outputs": [
    {
     "data": {
      "text/plain": [
       "array([[405, 406, 407, 408, 409],\n",
       "       [410, 411, 412, 413, 414],\n",
       "       [415, 416, 417, 418, 419],\n",
       "       [420, 421, 422, 423, 424],\n",
       "       [425, 426, 427, 428, 429],\n",
       "       [430, 431, 432, 433, 434],\n",
       "       [435, 436, 437, 438, 439],\n",
       "       [440, 441, 442, 443, 444],\n",
       "       [445, 446, 447, 448, 449]])"
      ]
     },
     "execution_count": 25,
     "metadata": {},
     "output_type": "execute_result"
    }
   ],
   "source": [
    "ejer4b = ejer3[-1]\n",
    "ejer4b"
   ]
  },
  {
   "cell_type": "markdown",
   "metadata": {},
   "source": [
    " * Realiza la operación matricial Ejer4a·T(Ejer4b)"
   ]
  },
  {
   "cell_type": "code",
   "execution_count": 21,
   "metadata": {},
   "outputs": [
    {
     "data": {
      "text/plain": [
       "array([[ 4080,  4130,  4180,  4230,  4280,  4330,  4380,  4430,  4480],\n",
       "       [14255, 14430, 14605, 14780, 14955, 15130, 15305, 15480, 15655],\n",
       "       [24430, 24730, 25030, 25330, 25630, 25930, 26230, 26530, 26830],\n",
       "       [34605, 35030, 35455, 35880, 36305, 36730, 37155, 37580, 38005],\n",
       "       [44780, 45330, 45880, 46430, 46980, 47530, 48080, 48630, 49180],\n",
       "       [54955, 55630, 56305, 56980, 57655, 58330, 59005, 59680, 60355],\n",
       "       [65130, 65930, 66730, 67530, 68330, 69130, 69930, 70730, 71530],\n",
       "       [75305, 76230, 77155, 78080, 79005, 79930, 80855, 81780, 82705],\n",
       "       [85480, 86530, 87580, 88630, 89680, 90730, 91780, 92830, 93880]])"
      ]
     },
     "execution_count": 21,
     "metadata": {},
     "output_type": "execute_result"
    }
   ],
   "source": [
    "#No se puede ya que las formas de los arrays no son las mismas.\n",
    "np.dot(ejer4a, ejer4b.T)"
   ]
  },
  {
   "cell_type": "markdown",
   "metadata": {},
   "source": [
    " * Extrae un vector denominado Ejer4c constituido por la segunda fila de la segunda matriz del tensor Ejer3."
   ]
  },
  {
   "cell_type": "code",
   "execution_count": null,
   "metadata": {},
   "outputs": [
    {
     "data": {
      "text/plain": [
       "array([50, 51, 52, 53, 54])"
      ]
     },
     "execution_count": 44,
     "metadata": {},
     "output_type": "execute_result"
    }
   ],
   "source": [
    "ejer4c = ejer3[1,1]\n",
    "ejer4c"
   ]
  },
  {
   "cell_type": "markdown",
   "metadata": {},
   "source": [
    " * Extrae un vector denominado Ejer4d constituido por la primera fila de la tercera matriz del tensor Ejer3."
   ]
  },
  {
   "cell_type": "code",
   "execution_count": null,
   "metadata": {},
   "outputs": [
    {
     "data": {
      "text/plain": [
       "array([90, 91, 92, 93, 94])"
      ]
     },
     "execution_count": 46,
     "metadata": {},
     "output_type": "execute_result"
    }
   ],
   "source": [
    "ejer4d = ejer3[2,0]\n",
    "ejer4d"
   ]
  },
  {
   "cell_type": "markdown",
   "metadata": {},
   "source": [
    " * Cuál es el valor del producto escalar de los vectores Ejer4c y Ejer4d?."
   ]
  },
  {
   "cell_type": "code",
   "execution_count": null,
   "metadata": {},
   "outputs": [
    {
     "data": {
      "text/plain": [
       "23930"
      ]
     },
     "execution_count": 47,
     "metadata": {},
     "output_type": "execute_result"
    }
   ],
   "source": [
    "np.dot(ejer4c,ejer4d)"
   ]
  },
  {
   "cell_type": "markdown",
   "metadata": {},
   "source": [
    "* Crea un vector columna denominado Ejer4e compuesto por lo elementos de la última columna de la primera matriz de Ejer3."
   ]
  },
  {
   "cell_type": "code",
   "execution_count": null,
   "metadata": {},
   "outputs": [
    {
     "data": {
      "text/plain": [
       "(9, 1)"
      ]
     },
     "execution_count": 96,
     "metadata": {},
     "output_type": "execute_result"
    }
   ],
   "source": [
    "ejer4e = ejer3[0, :, 4:]\n",
    "ejer4e.shape"
   ]
  },
  {
   "cell_type": "markdown",
   "metadata": {},
   "source": [
    " * Crea un vector columna denominado Ejer4f compuesto por los elementos de tercera columna de la cuarta matriz de Ejer3."
   ]
  },
  {
   "cell_type": "code",
   "execution_count": null,
   "metadata": {},
   "outputs": [
    {
     "data": {
      "text/plain": [
       "(9, 1)"
      ]
     },
     "execution_count": 95,
     "metadata": {},
     "output_type": "execute_result"
    }
   ],
   "source": [
    "ejer4f = ejer3[3, :, 3:4]\n",
    "ejer4f.shape"
   ]
  },
  {
   "cell_type": "markdown",
   "metadata": {},
   "source": [
    " * Cuál es el valor del producto escalar de los vectores Ejer4e y Ejer4f?. Utiliza la función np.dot para conseguirlo"
   ]
  },
  {
   "cell_type": "code",
   "execution_count": null,
   "metadata": {},
   "outputs": [
    {
     "data": {
      "text/plain": [
       "array([[35628]])"
      ]
     },
     "execution_count": 94,
     "metadata": {},
     "output_type": "execute_result"
    }
   ],
   "source": [
    "ejer4f.shape\n",
    "ejer4e.shape\n",
    "np.dot(ejer4f.T,ejer4e)"
   ]
  }
 ],
 "metadata": {
  "kernelspec": {
   "display_name": "Python 3 (ipykernel)",
   "language": "python",
   "name": "python3"
  },
  "language_info": {
   "codemirror_mode": {
    "name": "ipython",
    "version": 3
   },
   "file_extension": ".py",
   "mimetype": "text/x-python",
   "name": "python",
   "nbconvert_exporter": "python",
   "pygments_lexer": "ipython3",
   "version": "3.8.9"
  }
 },
 "nbformat": 4,
 "nbformat_minor": 4
}
