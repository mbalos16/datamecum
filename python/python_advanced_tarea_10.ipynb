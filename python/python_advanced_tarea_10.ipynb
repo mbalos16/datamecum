{
 "cells": [
  {
   "cell_type": "markdown",
   "metadata": {},
   "source": [
    "## Ejercicios\n",
    "\n",
    "## Ejercicicio 1\n",
    "\n",
    "Crea un script de python que cree una calculadora simple. Para ello define 4 funciones: `add(x,y)`,  `substract(x,y)`, `multiply(x,y)` y `divide(x,y)`, que implementen la suma, la resta, la multiplicación y la división.\n",
    "\n",
    "Sientete libre de incluir estas funciones en un script para poder introducir argumentos por pantalla y emplear cada una de las funciones dependiendo de una elección del usuario. Algo así..."
   ]
  },
  {
   "cell_type": "code",
   "execution_count": 6,
   "metadata": {},
   "outputs": [],
   "source": [
    "def my_add(x:float, y:float) -> float:\n",
    "    \"\"\"A function that adds two numbers together.\n",
    "\n",
    "    Args:\n",
    "        x (float): A number to be added with another\n",
    "        y (float): Another number to be added to the first one\n",
    "\n",
    "    Returns:\n",
    "        float: The sum of the given numbers.\n",
    "    \"\"\"\n",
    "    sum_result = x + y\n",
    "    return float(sum_result)\n",
    "\n",
    "def my_substract(x:float, y:float) -> float:\n",
    "    \"\"\"A block code that substracts two elements\n",
    "\n",
    "    Args:\n",
    "        x (float): A number to be substracted a quantity from\n",
    "        y (float): A number to be substracted from the first one\n",
    "\n",
    "    Returns:\n",
    "        float: The result of the substraction.\n",
    "    \"\"\"\n",
    "    subs_result = x - y\n",
    "    return float(subs_result)\n",
    "\n",
    "def my_multiply(x:float, y:float) -> float:\n",
    "    \"\"\"A function that multiply two numbers.\n",
    "\n",
    "    Args:\n",
    "        x (float): A number to be multiplied with another.\n",
    "        y (float): Another number to be multiplied with the first one\n",
    "\n",
    "    Returns:\n",
    "        float: The result of the multiplication.\n",
    "    \"\"\"\n",
    "    mult_result = x * y\n",
    "    return float(mult_result)\n",
    "\n",
    "def my_divide(x:float, y:float) -> float:\n",
    "    \"\"\"A piece of block that divides two number.\n",
    "\n",
    "    Args:\n",
    "        x (float): A number that will be divided.\n",
    "        y (float): The number will be divided the first one with\n",
    "\n",
    "    Returns:\n",
    "        float: The result of the division.\n",
    "    \"\"\"\n",
    "    div_result = x / y\n",
    "    return float(div_result)"
   ]
  },
  {
   "cell_type": "code",
   "execution_count": 7,
   "metadata": {},
   "outputs": [
    {
     "name": "stdout",
     "output_type": "stream",
     "text": [
      "3.0\n",
      "1.0\n",
      "3.0\n",
      "6.0\n"
     ]
    }
   ],
   "source": [
    "print(my_add(1,2))\n",
    "print(my_substract(2,1))\n",
    "print(my_divide(3,1))\n",
    "print(my_multiply(2,3))"
   ]
  }
 ],
 "metadata": {
  "kernelspec": {
   "display_name": "Python 3",
   "language": "python",
   "name": "python3"
  },
  "language_info": {
   "codemirror_mode": {
    "name": "ipython",
    "version": 3
   },
   "file_extension": ".py",
   "mimetype": "text/x-python",
   "name": "python",
   "nbconvert_exporter": "python",
   "pygments_lexer": "ipython3",
   "version": "3.8.9"
  },
  "orig_nbformat": 4
 },
 "nbformat": 4,
 "nbformat_minor": 2
}
