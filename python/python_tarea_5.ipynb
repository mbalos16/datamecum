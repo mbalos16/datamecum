{
 "cells": [
  {
   "cell_type": "markdown",
   "metadata": {},
   "source": [
    "<img src=\"datamecum_logo.png\" align=\"right\" style=\"float\" width=\"400\">\n",
    "<font color=\"#CA3532\"><h1 align=\"left\">Programa técnico intensivo en data science. Datamecum.</h1></font>\n",
    "<font color=\"#6E6E6E\"><h2 align=\"left\">Módulo Introducción a Python.</h2></font> \n",
    "<font color=\"#6E6E6E\"><h2 align=\"left\">Tarea 5</h2></font> \n",
    "\n",
    "#### Marcelino Martínez Sober, Juan Gómez-Sanchis\n",
    "##### Alumna: Maria Balos"
   ]
  },
  {
   "cell_type": "markdown",
   "metadata": {},
   "source": [
    "TO DO: *Crea un Notebook de Jupiter denominado Tarea5.ipynb para completar los ejercicios propuestos en esta tarea.\n",
    "\n",
    "Crea dos variables de tipo string . La primera denominada parte1 y que contengan la palabras >>las variables string<<. Y la segunda denominada parte 2 y que contenga la frase >>son muy útilies<<.\n",
    "\n",
    "Crea una variable denominada eslogan que contenga la concatenación de las variables parte 1 y parte 2 .\n",
    "Explora los métodos y los atributos que contiene un objeto de tipo string. A partir del nombre de los diferentes métodos de un objeto de tipo string intenta conseguir que la frase contenida en eslogan empiece por mayúscula.\n",
    "\n",
    "Intenta conseguir, a partir de los métodos de un string, una lista con las diferentes palabras que componen la frase contenida en el eslogan.\n",
    "\n",
    "Sea una variable de tipo string denominada interes que contiene el tipo de interés numérico de un préstamo. Otra variable que contiene un número real denominada cantidad que contiene la cantidad de dinero solicitado y una última variable denominada Ncuotas que contiene un número entero con el número de cuotas a pagar. Escribe en una línea de código como se calcularía la variable cuota.\n",
    "\n",
    "\n",
    "Crea una variable denominada InicioClase de tipo datetime que contenga la fecha y la hora a la que ha empezado la clase de hoy.\n",
    "Utiliza un método de los objetos datetime para formatear la fecha y la hora almacenada en InicioClase con el formato ‘dd/mm/YYYY HH:MM:SS’.*"
   ]
  },
  {
   "cell_type": "code",
   "execution_count": null,
   "metadata": {},
   "outputs": [],
   "source": [
    "from datetime import datetime as dt"
   ]
  },
  {
   "cell_type": "markdown",
   "metadata": {},
   "source": [
    "Concatenate and capitaliza two strings"
   ]
  },
  {
   "cell_type": "code",
   "execution_count": 7,
   "metadata": {},
   "outputs": [
    {
     "name": "stdout",
     "output_type": "stream",
     "text": [
      "Las variables string son muy utiles\n"
     ]
    }
   ],
   "source": [
    "def concatenate_and_capitalize_strings(first_part: str, second_part: str) -> str:\n",
    "    \"\"\"A function that takes two strings concatenate and capitalize them into a phrase which will be the result.   \n",
    "\n",
    "    Args:\n",
    "        first_part (str): The first part of the final phrase.\n",
    "        second_part (str): The second part of the final phrase.\n",
    "\n",
    "    Returns:\n",
    "        str: The result of the concatenation and capitalization.\n",
    "    \"\"\"\n",
    "    \n",
    "    phrase = first_part + \" \" + second_part\n",
    "    phrase_capitalized = phrase.capitalize()\n",
    "    return phrase_capitalized\n",
    "\n",
    "eslogan = concatenate_and_capitalize_strings(first_part=\"las variables string\", second_part= \"son muy utiles\")\n",
    "print(eslogan)"
   ]
  },
  {
   "cell_type": "markdown",
   "metadata": {},
   "source": [
    "Split a phrase in a list of strings."
   ]
  },
  {
   "cell_type": "code",
   "execution_count": 9,
   "metadata": {},
   "outputs": [
    {
     "name": "stdout",
     "output_type": "stream",
     "text": [
      "['Las', 'variables', 'string', 'son', 'muy', 'utiles']\n"
     ]
    }
   ],
   "source": [
    "def split_phrase(phrase:str) -> list :\n",
    "    \"\"\"Takes a phrase and split it in a list of strings based on its empty space.\n",
    "\n",
    "    Args:\n",
    "        phrase (str): An initial phrase to split.\n",
    "\n",
    "    Returns:\n",
    "        list: A list of strings witht he words from the initial phrase.\n",
    "    \"\"\"\n",
    "    phrase_to_list = phrase.split(\" \")\n",
    "    return phrase_to_list\n",
    "\n",
    "print(split_phrase(\"Las variables string son muy utiles\"))"
   ]
  },
  {
   "cell_type": "markdown",
   "metadata": {},
   "source": [
    "Calculate the banking fee of someone who bought a house."
   ]
  },
  {
   "cell_type": "code",
   "execution_count": 14,
   "metadata": {},
   "outputs": [
    {
     "name": "stdout",
     "output_type": "stream",
     "text": [
      "1.6412142857142855\n"
     ]
    }
   ],
   "source": [
    "\n",
    "def bank_fee(bank_interes , lean_amount, desired_bank_fees):\n",
    "    # nota: To calculate the bank_fee we need to add the lean_amount + the porcentage of that quantity, reazon why we implement 1+.\n",
    "    final_bank_fee = float(lean_amount) * (1 + (float(bank_interes)/100)) / desired_bank_fees\n",
    "    return final_bank_fee\n",
    "    \n",
    "\n",
    "interes = \"3.5\"\n",
    "cantidad = 55.500\n",
    "Ncuotas = 35\n",
    "cuota = bank_fee(interes, cantidad, Ncuotas)\n",
    "print(cuota)"
   ]
  },
  {
   "cell_type": "markdown",
   "metadata": {},
   "source": [
    "Tranform datetime."
   ]
  },
  {
   "cell_type": "code",
   "execution_count": 1,
   "metadata": {},
   "outputs": [
    {
     "name": "stdout",
     "output_type": "stream",
     "text": [
      "2023-10-14 08:00:10\n",
      "14/10/2023 08:00:10\n"
     ]
    }
   ],
   "source": [
    "import datetime as dt\n",
    "\n",
    "InicioClase = dt.datetime(2023, 10, 14, 8, 00, 10)\n",
    "print(InicioClase)\n",
    "\n",
    "new_format =InicioClase.strftime('%d/%m/%Y %H:%M:%S')\n",
    "print(new_format)"
   ]
  }
 ],
 "metadata": {
  "kernelspec": {
   "display_name": "Python 3 (ipykernel)",
   "language": "python",
   "name": "python3"
  },
  "language_info": {
   "codemirror_mode": {
    "name": "ipython",
    "version": 3
   },
   "file_extension": ".py",
   "mimetype": "text/x-python",
   "name": "python",
   "nbconvert_exporter": "python",
   "pygments_lexer": "ipython3",
   "version": "3.8.9"
  }
 },
 "nbformat": 4,
 "nbformat_minor": 4
}
