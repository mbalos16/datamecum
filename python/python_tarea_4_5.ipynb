{
 "cells": [
  {
   "cell_type": "markdown",
   "metadata": {},
   "source": [
    "<img src=\"datamecum_logo.png\" align=\"right\" style=\"float\" width=\"400\">\n",
    "<font color=\"#CA3532\"><h1 align=\"left\">Programa técnico intensivo en data science. Datamecum.</h1></font>\n",
    "<font color=\"#6E6E6E\"><h2 align=\"left\">Módulo Introducción a Python.</h2></font> \n",
    "<font color=\"#6E6E6E\"><h2 align=\"left\">Tarea 4_5</h2></font> \n",
    "\n",
    "#### Marcelino Martínez Sober, Juan Gómez-Sanchis\n",
    "##### Alumna: Maria Balos"
   ]
  },
  {
   "cell_type": "markdown",
   "metadata": {},
   "source": [
    "TO DO: * Crea un Notebook de Jupiter denominado Tarea_4_5.ipynb para completar los ejercicios propuestos en esta tarea.\n",
    "\n",
    "El módulo numpy contiene un elevado número de funciones utilizables en el ámbito del cálculo matricial. Escribe la línea de código que te permitiría utilizar todas las funciones del módulo. Si queremos utilizar un nombre más simple, por ejemplo np, para denominar al módulo, cómo modificaríamos la línea de código del ejercicio anterior.\n",
    "\n",
    "El módulo numpy contiene la función ones, que permite generar un array de unos del tamaño indicado en el argumento de la función. Crea un array que contenga 5 ‘unos’ empleando ones.\n",
    "Imagina que queremos utilizar únicamente la función ones del módulo numpy sin hacer referencia al nombre del módulo. Cómo lo harias?. Comprueba que funciona.\n",
    "\n",
    "Imagina que queremos simplificar el nombre de la función ones utilizando un nombre corto como unos. Como lo harías?. Comprueba que funciona.\n",
    "\n",
    "Crea las variables a=‘Programa’, b=‘Técnico’, c=‘Intensivo’, d=2, h=4, i=3,f=0.5 y g=‘0.5’. Intenta averiguar que operaciones están permitidas. Realiza las operaciones en Python y trata de explicar lo que ocurre.\n",
    "\n",
    "- h^f\n",
    "- i/d\n",
    "- f+g\n",
    "- a+b+c \n",
    "- a-d\n",
    "\n",
    "La variable a hace referencia a un objeto inmutable? Por qué?\n",
    "Comprueba la diferencia entre la función is y el operador ==.*"
   ]
  },
  {
   "cell_type": "code",
   "execution_count": null,
   "metadata": {},
   "outputs": [],
   "source": [
    "import numpy\n",
    "import numpy as np\n",
    "from numpy import ones\n",
    "from numpy import ones as unos\n",
    "\n",
    "#Use ones just by importing numpy library.\n",
    "first = numpy.ones(5)\n",
    "print(first)\n",
    "\n",
    "#Use ones after importing numpy as np.\n",
    "second = np.ones(5)\n",
    "print(second)\n",
    "\n",
    "#Use ones after importing ones from numpy.\n",
    "third = ones(5)\n",
    "print(third)\n",
    "\n",
    "# Use ones after importing ones from numpy and change the name to unos.\n",
    "forth = unos(5)\n",
    "print(forth)"
   ]
  },
  {
   "cell_type": "code",
   "execution_count": null,
   "metadata": {},
   "outputs": [],
   "source": [
    "a=\"Programa\"\n",
    "b=\"Técnico\"\n",
    "c=\"Intensivo\"\n",
    "d=2\n",
    "h=4\n",
    "i=3\n",
    "f=0.5\n",
    "g=\"0.5\""
   ]
  },
  {
   "cell_type": "code",
   "execution_count": null,
   "metadata": {},
   "outputs": [],
   "source": [
    "#Cannot work as the operation is on two different types of data: int and float.\n",
    "first_op = h ^ f\n",
    "print(first_op)\n"
   ]
  },
  {
   "cell_type": "code",
   "execution_count": null,
   "metadata": {},
   "outputs": [],
   "source": [
    "#It does work as the i and d are both int objects.\n",
    "second_op = i/d\n",
    "print(second_op)"
   ]
  },
  {
   "cell_type": "code",
   "execution_count": null,
   "metadata": {},
   "outputs": [],
   "source": [
    "#It doesn't work as the operation is on two different types of data: float and string.\n",
    "third_ob = f+g\n",
    "print(third_ob)"
   ]
  },
  {
   "cell_type": "code",
   "execution_count": null,
   "metadata": {},
   "outputs": [],
   "source": [
    "# It does work as when adding text together it concatenates.\n",
    "forth_op = a+b+c \n",
    "print(forth_op)"
   ]
  },
  {
   "cell_type": "code",
   "execution_count": null,
   "metadata": {},
   "outputs": [],
   "source": [
    "# It doesn't work as there are different types of data: string and int.\n",
    "fifth_op = a-d\n",
    "print(fifth_op)"
   ]
  }
 ],
 "metadata": {
  "kernelspec": {
   "display_name": "Python 3 (ipykernel)",
   "language": "python",
   "name": "python3"
  },
  "language_info": {
   "codemirror_mode": {
    "name": "ipython",
    "version": 3
   },
   "file_extension": ".py",
   "mimetype": "text/x-python",
   "name": "python",
   "nbconvert_exporter": "python",
   "pygments_lexer": "ipython3",
   "version": "3.11.5"
  }
 },
 "nbformat": 4,
 "nbformat_minor": 4
}
