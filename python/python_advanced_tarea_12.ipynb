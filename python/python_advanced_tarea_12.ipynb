{
 "cells": [
  {
   "cell_type": "markdown",
   "metadata": {},
   "source": [
    "## Ejercicio 3\n",
    "\n",
    "Implementa el algoritmo para encontrar la secuencia de Fibonacci que programaste en el primer seminario dentro de una función donde se le pase como argumento la longitud de la secuencia. Puedes emplear la recursividad de las funciones para programar el códgo de manera má elegante."
   ]
  },
  {
   "cell_type": "code",
   "execution_count": 1,
   "metadata": {},
   "outputs": [
    {
     "name": "stdout",
     "output_type": "stream",
     "text": [
      "21\n"
     ]
    }
   ],
   "source": [
    "def find_fibonacci(number: int) -> int:\n",
    "    \"\"\"A function that calculates the Fibonacci number.\n",
    "\n",
    "    Args:\n",
    "        number (int): A number that identifies with the lenght of the Fibonacci string.\n",
    "\n",
    "    Returns:\n",
    "        int: The Fibonacci number.\n",
    "    \"\"\"\n",
    "    count = 1\n",
    "    fib_list = [0,1]\n",
    "\n",
    "    while count != number:\n",
    "        fib_num = fib_list[0] + fib_list[1]\n",
    "        first_elem = fib_list.pop(1)\n",
    "        second_elem = fib_num\n",
    "        \n",
    "        #Completely delete the list\n",
    "        fib_list.pop(0)\n",
    "        \n",
    "        #Reasign elements at the list\n",
    "        fib_list.append(first_elem)\n",
    "        fib_list.append(second_elem)\n",
    "        \n",
    "        #Update the count\n",
    "        count +=1\n",
    "    return fib_list[1]\n",
    "\n",
    "print(find_fibonacci(8))"
   ]
  },
  {
   "cell_type": "code",
   "execution_count": null,
   "metadata": {},
   "outputs": [],
   "source": []
  }
 ],
 "metadata": {
  "kernelspec": {
   "display_name": "Python 3",
   "language": "python",
   "name": "python3"
  },
  "language_info": {
   "codemirror_mode": {
    "name": "ipython",
    "version": 3
   },
   "file_extension": ".py",
   "mimetype": "text/x-python",
   "name": "python",
   "nbconvert_exporter": "python",
   "pygments_lexer": "ipython3",
   "version": "3.8.9"
  },
  "orig_nbformat": 4
 },
 "nbformat": 4,
 "nbformat_minor": 2
}
