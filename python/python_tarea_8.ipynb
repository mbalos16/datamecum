{
 "cells": [
  {
   "cell_type": "markdown",
   "metadata": {},
   "source": [
    "<img src=\"datamecum_logo.png\" align=\"right\" style=\"float\" width=\"400\">\n",
    "<font color=\"#CA3532\"><h1 align=\"left\">Programa técnico intensivo en data science. Datamecum.</h1></font>\n",
    "<font color=\"#6E6E6E\"><h2 align=\"left\">Módulo Introducción a Python.</h2></font> \n",
    "<font color=\"#6E6E6E\"><h2 align=\"left\">Tarea 8</h2></font>\n",
    "\n",
    "#### Marcelino Martínez Sober, Juan Gómez-Sanchis\n",
    "##### Alumna: Maria Balos"
   ]
  },
  {
   "cell_type": "markdown",
   "metadata": {},
   "source": [
    "TO DO: *\n",
    "\n",
    "Crea un Notebook de Jupiter denominado Tarea8.ipynb para completar los ejercicios propuestos en esta tarea.\n",
    "\n",
    "\n",
    "El modulo random contiene una función denominada randrange que permite generar un número entero aleatorio. Crea una lista denominada Ejer8a que contenga 200 números aleatorios en el rango de 0 a 100. Ordena la lista Ejer8a.\n",
    "\n",
    "Sean dos listas Nombre=[‘ana’,’pedro’,’juan’,’oscar’,’julia’] y Peso=[55.7, 80.6 ,87.8, 75.4, 60.1], consigue una lista de tuplas en la que cada tupla este compuesta por el nombre y el peso de cada sujeto.\n",
    "\n",
    "Genera un diccionario cuyas claves sean los nombres de los sujetos del ejercicio anterior y los valores su peso. Cómo podrías acceder dentro del diccionario al peso de Ana? Y al de Pedro?. Si queremos añadir un sujeto más a la base de datos, en concreto Emilio con un peso de 83.2 en el diccionario, Cómo lo harías?. Por último, elimina del diccionario a Juan.\n",
    "\n",
    "Repite la creación del diccionario anterior utilizando obligatoriamente un bucle for para añadir cada elemento del diccionario. Hazlo SIN y CON comprehensions.\n",
    "\n",
    "\n",
    "\n",
    "Crea dos listas Ejer8b y Ejer8c aleatorias como la\n",
    "del ejercicio 2 de esta tarea.\n",
    "• Determina los elementos únicos de cada lista.\n",
    "Determina los elementos que tienen en\n",
    "común ambas listas.\n",
    "• Determina los elementos de la lista Ejer8b\n",
    "que no están en la lista Ejer8a.\n",
    "\n",
    "Crea un diccionario cuyas claves contengan los nombres de la lista Nombre y cuyo valor sea la posición que ocupa en la lista.\n",
    "\n",
    "Crea una lista derivada de la lista Nombres que contenga los nombres con mas de 4 letras.\n",
    "\n",
    "En el diccionario resultante del ejercicio 4 de esta tarea crea un nuevo diccionario con los usuarios cuyo peso es mayor de 65.0 Kg. Siéntete libre de utilizar comprehensions cuando lo consideres oportuno.\n",
    "*"
   ]
  },
  {
   "cell_type": "markdown",
   "metadata": {},
   "source": [
    "Generate a rangom list with integers numbers"
   ]
  },
  {
   "cell_type": "code",
   "execution_count": 16,
   "metadata": {},
   "outputs": [
    {
     "name": "stdout",
     "output_type": "stream",
     "text": [
      "[0, 2, 6, 7, 9, 17, 18, 25, 28, 29, 29, 32, 34, 37, 38, 39, 46, 46, 46, 46, 46, 50, 53, 54, 54, 55, 55, 56, 60, 60, 62, 64, 67, 67, 71, 72, 75, 77, 77, 78, 79, 79, 82, 83, 84, 84, 86, 86, 89, 92, 99, 100, 101, 102, 104, 104, 110, 112, 114, 115, 116, 116, 119, 121, 122, 122, 128, 132, 133, 134, 136, 139, 141, 145, 150, 151, 153, 153, 155, 160, 160, 163, 166, 167, 173, 176, 176, 177, 178, 180, 182, 185, 186, 186, 187, 188, 189, 191, 193, 198]\n",
      "100\n"
     ]
    }
   ],
   "source": [
    "from random import randrange\n",
    "\n",
    "def gen_random_sorted_list(number_of_elements: int, list_range_max, list_range_min) -> list:\n",
    "    \"\"\"A function that gets a number of elements that are needed and it's range and returns a randomly generated list with those parameters\n",
    "\n",
    "    Args:\n",
    "        number_of_elements (int): This will limitate the number of elements in the generated list.\n",
    "        list_range_max (int): The maximum range of the list.\n",
    "        list_range_mim (int): The minimum range of the list.\n",
    "\n",
    "    Returns:\n",
    "        list: The randomly generated list.\n",
    "    \"\"\"\n",
    "    random_list = []\n",
    "    while len(random_list) < number_of_elements:\n",
    "        random_list.append(randrange(list_range_min, list_range_max))\n",
    "    final_list = sorted(random_list)\n",
    "    return final_list\n",
    "    \n",
    "gen_list = gen_random_sorted_list(number_of_elements = 100, list_range_max = 200, list_range_min = 0)\n",
    "print(gen_list)\n",
    "print(len(gen_list))"
   ]
  },
  {
   "cell_type": "markdown",
   "metadata": {},
   "source": [
    "Create a list of tuples created with the name and the weight of these lists: Nombre=[‘ana’,’pedro’,’juan’,’oscar’,’julia’] y Peso=[55.7, 80.6 ,87.8, 75.4, 60.1]."
   ]
  },
  {
   "cell_type": "code",
   "execution_count": 39,
   "metadata": {},
   "outputs": [
    {
     "name": "stdout",
     "output_type": "stream",
     "text": [
      "[('ana', 55.7), ('pedro', 80.6), ('juan', 87.8), ('oscar', 75.4), ('julia', 60.1)]\n"
     ]
    }
   ],
   "source": [
    "\n",
    "def create_mergedlist_from_lists(list_one: list, list_two: list) -> list:\n",
    "    \"\"\"A block of code that takes two lists and returns a new list with the element of each list in tuples.\n",
    "\n",
    "    Args:\n",
    "        list_one (list): The first list to be merged\n",
    "        list_two (list): The second list to be merged\n",
    "\n",
    "    Returns:\n",
    "        list: A list of tuples with the elements of the given lists merged.\n",
    "    \"\"\"\n",
    "    list_people = list(zip(name, weight))\n",
    "    print(list_people)\n",
    "        \n",
    "name =[\"ana\", \"pedro\", \"juan\", \"oscar\", \"julia\"]\n",
    "weight =[55.7, 80.6 ,87.8, 75.4, 60.1]\n",
    "\n",
    "merged_list = create_mergedlist_from_lists(name,weight)"
   ]
  },
  {
   "cell_type": "markdown",
   "metadata": {},
   "source": [
    "Do the same thing but create a dictionary this time. \n",
    "Access the weight of Ana. \n",
    "Access the weight of Pedro.\n",
    "Add a new person to the dictionary: Emilio : 83.2\n",
    "Delete Juan from the dictionary."
   ]
  },
  {
   "cell_type": "code",
   "execution_count": 53,
   "metadata": {},
   "outputs": [
    {
     "name": "stdout",
     "output_type": "stream",
     "text": [
      "{'ana': 55.7, 'pedro': 80.6, 'juan': 87.8, 'oscar': 75.4, 'julia': 60.1}\n",
      "Ana is: 55.7\n",
      "Pedro is: 80.6\n",
      "{'ana': 55.7, 'pedro': 80.6, 'juan': 87.8, 'oscar': 75.4, 'julia': 60.1, 'Emilio': 83.2}\n",
      "{'ana': 55.7, 'pedro': 80.6, 'oscar': 75.4, 'julia': 60.1, 'Emilio': 83.2}\n"
     ]
    }
   ],
   "source": [
    "def create_dictionary_from_lists(list_one: list, list_two: list) -> dict:\n",
    "    \"\"\"A block of code that takes two lists and returns a dictionary with key:value merging the elements from both lists.\n",
    "\n",
    "    Args:\n",
    "        list_one (list): The first list to be merged\n",
    "        list_two (list): The second list to be merged\n",
    "\n",
    "    Returns:\n",
    "        list: A dictionary with key, values of the elements of the given lists.\n",
    "    \"\"\"\n",
    "    dict_people = dict(zip(name, weight))\n",
    "    return dict_people\n",
    "        \n",
    "name =[\"ana\", \"pedro\", \"juan\", \"oscar\", \"julia\"]\n",
    "weight =[55.7, 80.6 ,87.8, 75.4, 60.1]\n",
    "\n",
    "merged_dict = create_dictionary_from_lists(name,weight)\n",
    "print(merged_dict)\n",
    "\n",
    "#Access Ana\n",
    "print(f\"Ana is: {merged_dict['ana']}\")\n",
    "\n",
    "#Access Pedro\n",
    "print(f\"Pedro is: {merged_dict['pedro']}\")\n",
    "\n",
    "#Add Emilio to the dict\n",
    "merged_dict[\"Emilio\"] = 83.2\n",
    "print(merged_dict)\n",
    "\n",
    "#Delete Juan\n",
    "del merged_dict[\"juan\"]\n",
    "print(merged_dict)"
   ]
  },
  {
   "cell_type": "markdown",
   "metadata": {},
   "source": [
    "Create again the dict but this time using for with and without comprehension dictionary."
   ]
  },
  {
   "cell_type": "code",
   "execution_count": 64,
   "metadata": {},
   "outputs": [
    {
     "name": "stdout",
     "output_type": "stream",
     "text": [
      "{'ana': 55.7, 'pedro': 80.6, 'juan': 87.8, 'oscar': 75.4, 'julia': 60.1}\n",
      "{'ana': 55.7, 'pedro': 80.6, 'juan': 87.8, 'oscar': 75.4, 'julia': 60.1}\n"
     ]
    }
   ],
   "source": [
    "# Dict created with a for\n",
    "def create_dictionary_with_for(list_one: list, list_two: list) -> dict:\n",
    "    \"\"\"A block of code that takes two lists and returns a dictionary with key:value merging the elements from both lists with a for.\n",
    "\n",
    "    Args:\n",
    "        list_one (list): The first list to be merged\n",
    "        list_two (list): The second list to be merged\n",
    "\n",
    "    Returns:\n",
    "        list: A dictionary with key, values of the elements of the given lists.\n",
    "    \"\"\"\n",
    "    people = zip(name, weight)\n",
    "    dict_people = {}\n",
    "    for key, value in people:\n",
    "        dict_people[key] = value\n",
    "    return dict_people\n",
    "\n",
    "name =[\"ana\", \"pedro\", \"juan\", \"oscar\", \"julia\"]\n",
    "weight =[55.7, 80.6 ,87.8, 75.4, 60.1]\n",
    "merged_dict = create_dictionary_with_for(name,weight)\n",
    "print(merged_dict)\n",
    "\n",
    "\n",
    "# Dict created with comprehesion\n",
    "def create_dictionary_with_compr(list_one: list, list_two: list) -> dict:\n",
    "    \"\"\"A block of code that takes two lists and returns a dictionary with key:value merging the elements from both lists with a comprehension dictionary.\n",
    "\n",
    "    Args:\n",
    "        list_one (list): The first list to be merged\n",
    "        list_two (list): The second list to be merged\n",
    "\n",
    "    Returns:\n",
    "        list: A dictionary with key, values of the elements of the given lists.\n",
    "    \"\"\"\n",
    "    people = zip(name, weight)\n",
    "    dict_people = {key:value for key, value in people}\n",
    "    return dict_people\n",
    "\n",
    "name =[\"ana\", \"pedro\", \"juan\", \"oscar\", \"julia\"]\n",
    "weight =[55.7, 80.6 ,87.8, 75.4, 60.1]\n",
    "merged_dict = create_dictionary_with_compr(name,weight)\n",
    "print(merged_dict)\n"
   ]
  },
  {
   "cell_type": "markdown",
   "metadata": {},
   "source": [
    "Generate two random lists with the same requirements as in the first exercise. \n",
    "- Which are the unique elements of each list?\n",
    "- Which are the commun elements of both lists?\n",
    "- Which are the elements that are in the first list but not in the second one?"
   ]
  },
  {
   "cell_type": "code",
   "execution_count": 104,
   "metadata": {},
   "outputs": [
    {
     "name": "stdout",
     "output_type": "stream",
     "text": [
      "[0, 0, 3, 3, 13, 15, 21, 29, 31, 33, 34, 38, 38, 38, 40, 40, 41, 42, 48, 49, 50, 56, 57, 59, 63, 64, 66, 69, 70, 70, 71, 71, 71, 73, 77, 77, 78, 79, 79, 83, 83, 87, 92, 97, 98, 100, 103, 103, 104, 107, 112, 113, 114, 115, 116, 118, 122, 123, 124, 126, 128, 129, 131, 139, 141, 142, 144, 144, 147, 147, 147, 152, 153, 153, 153, 154, 156, 162, 162, 162, 165, 167, 168, 171, 173, 178, 178, 183, 184, 184, 185, 187, 188, 190, 194, 194, 195, 196, 197, 198]\n",
      "[1, 1, 1, 1, 3, 4, 8, 8, 10, 11, 20, 21, 22, 22, 23, 28, 30, 32, 33, 36, 39, 42, 44, 49, 49, 51, 52, 52, 57, 59, 59, 61, 63, 64, 64, 65, 66, 68, 71, 71, 72, 72, 73, 73, 74, 80, 80, 82, 90, 90, 91, 93, 94, 94, 95, 96, 97, 103, 109, 112, 115, 116, 120, 121, 121, 123, 126, 128, 128, 129, 129, 133, 136, 136, 138, 147, 148, 150, 150, 151, 153, 158, 159, 164, 166, 167, 167, 168, 169, 169, 170, 171, 173, 173, 175, 178, 183, 184, 185, 190]\n",
      "--------------------------\n",
      "Unique One\n",
      "{0, 3, 13, 15, 21, 29, 31, 33, 34, 38, 40, 41, 42, 48, 49, 50, 56, 57, 59, 63, 64, 66, 69, 70, 71, 73, 77, 78, 79, 83, 87, 92, 97, 98, 100, 103, 104, 107, 112, 113, 114, 115, 116, 118, 122, 123, 124, 126, 128, 129, 131, 139, 141, 142, 144, 147, 152, 153, 154, 156, 162, 165, 167, 168, 171, 173, 178, 183, 184, 185, 187, 188, 190, 194, 195, 196, 197, 198}\n",
      "--------------------------\n",
      "Unique Two\n",
      "{1, 3, 4, 8, 10, 11, 20, 21, 22, 23, 28, 30, 32, 33, 36, 39, 42, 44, 49, 51, 52, 57, 59, 61, 63, 64, 65, 66, 68, 71, 72, 73, 74, 80, 82, 90, 91, 93, 94, 95, 96, 97, 103, 109, 112, 115, 116, 120, 121, 123, 126, 128, 129, 133, 136, 138, 147, 148, 150, 151, 153, 158, 159, 164, 166, 167, 168, 169, 170, 171, 173, 175, 178, 183, 184, 185, 190}\n",
      "--------------------------\n",
      "Commun elements\n",
      "[3, 3, 21, 33, 42, 49, 57, 59, 63, 64, 66, 71, 71, 71, 73, 97, 103, 103, 112, 115, 116, 123, 126, 128, 129, 147, 147, 147, 153, 153, 153, 167, 168, 171, 173, 178, 178, 183, 184, 184, 185, 190]\n",
      "--------------------------\n",
      "Not in list two\n",
      "[0, 0, 13, 15, 29, 31, 34, 38, 38, 38, 40, 40, 41, 48, 50, 56, 69, 70, 70, 77, 77, 78, 79, 79, 83, 83, 87, 92, 98, 100, 104, 107, 113, 114, 118, 122, 124, 131, 139, 141, 142, 144, 144, 152, 154, 156, 162, 162, 162, 165, 187, 188, 194, 194, 195, 196, 197, 198]\n"
     ]
    }
   ],
   "source": [
    "from random import randrange\n",
    "\n",
    "def gen_random_sorted_list(number_of_elements: int, list_range_max, list_range_min) -> list:\n",
    "    \"\"\"A function that gets a number of elements that are needed and it's range and returns a randomly generated list with those parameters\n",
    "\n",
    "    Args:\n",
    "        number_of_elements (int): This will limitate the number of elements in the generated list.\n",
    "        list_range_max (int): The maximum range of the list.\n",
    "        list_range_mim (int): The minimum range of the list.\n",
    "\n",
    "    Returns:\n",
    "        list: The randomly generated list.\n",
    "    \"\"\"\n",
    "    random_list = []\n",
    "    while len(random_list) < number_of_elements:\n",
    "        random_list.append(randrange(list_range_min, list_range_max))\n",
    "    final_list = sorted(random_list)\n",
    "    return final_list\n",
    "\n",
    "#Generate two random list\n",
    "random_list_one = gen_random_sorted_list(number_of_elements = 100, list_range_max = 200, list_range_min = 0)\n",
    "random_list_two = gen_random_sorted_list(number_of_elements = 100, list_range_max = 200, list_range_min = 0)\n",
    "print(random_list_one)\n",
    "print(random_list_two)\n",
    "print(\"--------------------------\")\n",
    "\n",
    "\n",
    "#Unique elements of each list\n",
    "print(\"Unique One\")\n",
    "unique_one = set(random_list_one)\n",
    "print(unique_one)\n",
    "print(\"--------------------------\")\n",
    "print(\"Unique Two\")\n",
    "unique_two = set(random_list_two)\n",
    "print(unique_two)\n",
    "print(\"--------------------------\")\n",
    "\n",
    "#Commun elements of both lists\n",
    "print(\"Commun elements\")\n",
    "commun_elements = [item for item in random_list_one if item in random_list_two]\n",
    "print(commun_elements)\n",
    "print(\"--------------------------\")\n",
    "\n",
    "# Elements in the first list but not in the second one\n",
    "print(\"Not in list two\")\n",
    "not_in_list_two_elements = [item for item in random_list_one if item not in random_list_two]\n",
    "print(not_in_list_two_elements)"
   ]
  },
  {
   "cell_type": "markdown",
   "metadata": {},
   "source": [
    "Create a dictionary with the values of the list name =[\"ana\", \"pedro\", \"juan\", \"oscar\", \"julia\"] and the keys being their index in the list.\n",
    "Create a dictionary list based on the name list with those elements that have more then 4 characters."
   ]
  },
  {
   "cell_type": "code",
   "execution_count": 92,
   "metadata": {},
   "outputs": [
    {
     "name": "stdout",
     "output_type": "stream",
     "text": [
      "{'ana': 0, 'pedro': 1, 'juan': 2, 'oscar': 3, 'julia': 4}\n",
      "{'ana': 0, 'juan': 2}\n",
      "['ana', 'juan']\n"
     ]
    }
   ],
   "source": [
    "name =[\"ana\", \"pedro\", \"juan\", \"oscar\", \"julia\"]\n",
    "new_dict = {value:index for index, value in enumerate(name)}\n",
    "print(new_dict)\n",
    "\n",
    "#New dict with the short elements - not required.\n",
    "new_short_dic = {key:value for key,value in new_dict.items() if len(key) <= 4}\n",
    "print(new_short_dic)\n",
    "\n",
    "#New list with the short elements\n",
    "new_short_list = [key for key in new_dict if len(key) <= 4]\n",
    "print(new_short_list)"
   ]
  },
  {
   "cell_type": "markdown",
   "metadata": {},
   "source": [
    "En el diccionario resultante del ejercicio 4 de esta tarea crea un nuevo diccionario con los usuarios cuyo peso es mayor de 65.0 Kg. Siéntete libre de utilizar comprehensions cuando lo consideres oportuno."
   ]
  },
  {
   "cell_type": "code",
   "execution_count": 111,
   "metadata": {},
   "outputs": [
    {
     "name": "stdout",
     "output_type": "stream",
     "text": [
      "{'ana': 55.7, 'pedro': 80.6, 'oscar': 75.4, 'julia': 60.1, 'Emilio': 83.2}\n",
      "{'pedro': 80.6, 'oscar': 75.4, 'Emilio': 83.2}\n",
      "{'ana': 55.7, 'pedro': 80.6, 'oscar': 75.4, 'julia': 60.1, 'Emilio': 83.2, 'overweight': {'pedro': 80.6, 'oscar': 75.4, 'Emilio': 83.2}}\n"
     ]
    }
   ],
   "source": [
    "\n",
    "dict_task_4 = {'ana': 55.7, 'pedro': 80.6, 'oscar': 75.4, 'julia': 60.1, 'Emilio': 83.2}\n",
    "print(dict_task_4)\n",
    "overweight = {key:value for key, value in dict_task_4.items() if value >= 65.0 }\n",
    "print(overweight)\n",
    "\n",
    "dict_task_4[\"overweight\"] = overweight\n",
    "\n",
    "print(dict_task_4)"
   ]
  }
 ],
 "metadata": {
  "kernelspec": {
   "display_name": "Python 3 (ipykernel)",
   "language": "python",
   "name": "python3"
  },
  "language_info": {
   "codemirror_mode": {
    "name": "ipython",
    "version": 3
   },
   "file_extension": ".py",
   "mimetype": "text/x-python",
   "name": "python",
   "nbconvert_exporter": "python",
   "pygments_lexer": "ipython3",
   "version": "3.8.9"
  }
 },
 "nbformat": 4,
 "nbformat_minor": 4
}
