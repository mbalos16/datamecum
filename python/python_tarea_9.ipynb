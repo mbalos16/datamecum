{
 "cells": [
  {
   "cell_type": "markdown",
   "metadata": {},
   "source": [
    "<img src=\"datamecum_logo.png\" align=\"right\" style=\"float\" width=\"400\">\n",
    "<font color=\"#CA3532\"><h1 align=\"left\">Programa técnico intensivo en data science. Datamecum.</h1></font>\n",
    "<font color=\"#6E6E6E\"><h2 align=\"left\">Módulo Introducción a Python.</h2></font> \n",
    "<font color=\"#6E6E6E\"><h2 align=\"left\">Tarea 9</h2></font>\n",
    "\n",
    "#### Marcelino Martínez Sober, Juan Gómez-Sanchis\n",
    "##### Alumna: Maria Balos"
   ]
  },
  {
   "cell_type": "markdown",
   "metadata": {},
   "source": [
    "TO DO: *\n",
    "Crea un Notebook de Jupiter denominado Tarea9.ipynb para completar los ejercicios propuestos en esta tarea.\n",
    "\n",
    "Crea una función denominada Mifactorial que devuelva el factorial de un número entero n. Utiliza bucles for y sentencias if.\n",
    "\n",
    "Una determinada compañía evalúa la calidad de sus clientes a través del ICC=Gasto/ (Insatisfaccion+1)2. El Gasto es un dato normalizado entre 0 y 100. La insatisfacción se mide con una variable continua definida entre 0 y 1. La empresa categoriza a los clientes de la siguiente manera:\n",
    "- IC<17 Cliente Pésimo\n",
    "- 17<=IC<18 Cliente a Pésimo II\n",
    "- 18<=IC<25 Cliente Normal\n",
    "- 25<=IC<30 Cliente OK\n",
    "- 30<=IC<35 Cliente OK II\n",
    "- 35<=IC<40 Cliente OK III\n",
    "- IC>=40 Cliente Premium\n",
    "\n",
    "Crea una función de Python denominada ICC que calcule el índice de calidad del cliente. Debe tener como argumentos el gasto, la insatisfacción del cliente y el nombre del mismo. La función debe devolver una lista en el que el primer elemento es el nombre del cliente y segundo el ICC del cliente.\n",
    "\n",
    "Crea otra función llamada ICC_GLOBAL como la anterior, cuyo argumento sea un diccionario en el que las claves contendrán los nombres de los clientes y en el valor una lista que contiene el gasto y la insatisfacción. La salida de la función debe devolver un diccionario con los nombres de los clientes y su ICC. \n",
    "\n",
    "Modifica ICC_GLOBAL, para que si el gasto o la insatisfacción no son números reales, devuelva un mensaje por pantalla indicando No se puede calcular el ICC, revisa los argumentos, todo esto sin que el interprete de Python devuelva un error.\n",
    "*"
   ]
  },
  {
   "cell_type": "code",
   "execution_count": 1,
   "metadata": {},
   "outputs": [],
   "source": [
    "#Factorial function was alredy created in day 6."
   ]
  },
  {
   "cell_type": "code",
   "execution_count": 4,
   "metadata": {},
   "outputs": [
    {
     "name": "stdout",
     "output_type": "stream",
     "text": [
      "['Maria', 'Cliente OK II', 32.0]\n"
     ]
    }
   ],
   "source": [
    "\n",
    "def client_satisfaction(client: str, spending:int, dissatisfaction:int) -> list:\n",
    "    \"\"\"A function that calculate the index of cuality of a client by taking in some parameters.\n",
    "\n",
    "    Args:\n",
    "        client (str): Client's name\n",
    "        spending (int): How much the user has spent\n",
    "        dissatisfaction (int): How dissatisfied the user is\n",
    "\n",
    "    Returns:\n",
    "        list: A list with the name of the client, icc interpretation by showing the type of client it is and the icc.\n",
    "    \"\"\"\n",
    "    icc = spending/(dissatisfaction+1)*2\n",
    "    if icc <17:\n",
    "        message = \"Cliente Pésimo\"\n",
    "    elif icc <18:\n",
    "        message = \"Cliente a Pésimo II\"\n",
    "    elif icc <25:\n",
    "        message = \"Cliente Normal\"\n",
    "    elif icc <30:\n",
    "        message = \"Cliente OK\"\n",
    "    elif icc<35:\n",
    "        message = \"Cliente OK II\"\n",
    "    elif icc <40:\n",
    "        message= \"Cliente OK III\"\n",
    "    else:\n",
    "        message = \"Cliente Premium\"\n",
    "    return [client, message, icc]\n",
    "\n",
    "print(client_satisfaction(client=\"Maria\", spending=16, dissatisfaction=0))"
   ]
  },
  {
   "cell_type": "code",
   "execution_count": 17,
   "metadata": {},
   "outputs": [
    {
     "name": "stdout",
     "output_type": "stream",
     "text": [
      "No se puede calcular el ICC para el cliente: Maria.\n",
      "{'Maria': 'Cliente Pésimo', 'Ivan': 'Cliente OK II'}\n"
     ]
    }
   ],
   "source": [
    "def global_client_satisfaction_dict(data:dict) -> dict:\n",
    "    \"\"\"A function that calculate the index of disatisfaction of a client.\n",
    "\n",
    "    Args:\n",
    "        data (dict): A dictionary with clients, their spending and dissatisfaction.\n",
    "\n",
    "    Returns:\n",
    "        dict:  Returns a list of the clients and their icc\n",
    "    \"\"\"\n",
    "    clients={}\n",
    "    for element in data:\n",
    "        user = element\n",
    "        spending = data[element][0]\n",
    "        dissatisfaction=data[element][1]\n",
    "        if type(dissatisfaction) != int:\n",
    "            print(f\"No se puede calcular el ICC para el cliente: {user}.\")\n",
    "        icc = spending/(dissatisfaction+1)*2\n",
    "        \n",
    "        if icc <17:\n",
    "            message = \"Cliente Pésimo\"\n",
    "        elif icc <18:\n",
    "            message = \"Cliente a Pésimo II\"\n",
    "        elif icc <25:\n",
    "            message = \"Cliente Normal\"\n",
    "        elif icc <30:\n",
    "            message = \"Cliente OK\"\n",
    "        elif icc<35:\n",
    "            message = \"Cliente OK II\"\n",
    "        elif icc <40:\n",
    "            message= \"Cliente OK III\"\n",
    "        else:\n",
    "            message = \"Cliente Premium\"\n",
    "        clients[user]= message\n",
    "    return clients\n",
    "\n",
    "data = {\"Maria\":[16,1.3], \"Ivan\":[16,0]}\n",
    "print(global_client_satisfaction_dict(data))"
   ]
  }
 ],
 "metadata": {
  "kernelspec": {
   "display_name": "Python 3 (ipykernel)",
   "language": "python",
   "name": "python3"
  },
  "language_info": {
   "codemirror_mode": {
    "name": "ipython",
    "version": 3
   },
   "file_extension": ".py",
   "mimetype": "text/x-python",
   "name": "python",
   "nbconvert_exporter": "python",
   "pygments_lexer": "ipython3",
   "version": "3.8.9"
  }
 },
 "nbformat": 4,
 "nbformat_minor": 4
}
