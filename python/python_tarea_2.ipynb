{
 "cells": [
  {
   "cell_type": "markdown",
   "metadata": {},
   "source": [
    "<img src=\"datamecum_logo.png\" align=\"right\" style=\"float\" width=\"400\">\n",
    "<font color=\"#CA3532\"><h1 align=\"left\">Programa técnico intensivo en data science. Datamecum.</h1></font>\n",
    "<font color=\"#6E6E6E\"><h2 align=\"left\">Módulo Introducción a Python.</h2></font> \n",
    "<font color=\"#6E6E6E\"><h2 align=\"left\">Tarea 2</h2></font> \n",
    "\n",
    "#### Marcelino Martínez Sober, Juan Gómez-Sanchis\n"
   ]
  },
  {
   "cell_type": "markdown",
   "metadata": {},
   "source": [
    "TO DO: *Crea un nuevo Jupyter Notebook y escribe algunas líneas de Python en base a lo poquito que sabemos...*"
   ]
  },
  {
   "cell_type": "markdown",
   "metadata": {},
   "source": [
    "---"
   ]
  },
  {
   "cell_type": "code",
   "execution_count": 8,
   "metadata": {},
   "outputs": [
    {
     "name": "stdout",
     "output_type": "stream",
     "text": [
      "Hola Saturno!\n"
     ]
    }
   ],
   "source": [
    "PLANET_NAME = \"Saturno\"\n",
    "\n",
    "def hi_world(planet_name):\n",
    "    print(f\"Hola {planet_name}!\")\n",
    "    \n",
    "hi_world(PLANET_NAME)"
   ]
  }
 ],
 "metadata": {
  "kernelspec": {
   "display_name": "Python 3 (ipykernel)",
   "language": "python",
   "name": "python3"
  },
  "language_info": {
   "codemirror_mode": {
    "name": "ipython",
    "version": 3
   },
   "file_extension": ".py",
   "mimetype": "text/x-python",
   "name": "python",
   "nbconvert_exporter": "python",
   "pygments_lexer": "ipython3",
   "version": "3.11.5"
  }
 },
 "nbformat": 4,
 "nbformat_minor": 4
}
