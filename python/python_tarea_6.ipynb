{
 "cells": [
  {
   "cell_type": "markdown",
   "metadata": {},
   "source": [
    "<img src=\"datamecum_logo.png\" align=\"right\" style=\"float\" width=\"400\">\n",
    "<font color=\"#CA3532\"><h1 align=\"left\">Programa técnico intensivo en data science. Datamecum.</h1></font>\n",
    "<font color=\"#6E6E6E\"><h2 align=\"left\">Módulo Introducción a Python.</h2></font> \n",
    "<font color=\"#6E6E6E\"><h2 align=\"left\">Tarea 6</h2></font>\n",
    "\n",
    "#### Marcelino Martínez Sober, Juan Gómez-Sanchis\n",
    "##### Alumna: Maria Balos"
   ]
  },
  {
   "cell_type": "markdown",
   "metadata": {},
   "source": [
    "TO DO: *\n",
    "Crea un Notebook de Jupiter denominado Tarea6.ipynb para completar los ejercicios propuestos en esta tarea.\n",
    "\n",
    "Escribe un segmento de código que calcule la suma de los cuadrados de los números enteros hasta que esta suma sea superior a 50000 .\n",
    "\n",
    "Construir un programa que calcule el índice de masa corporal de una persona (IMC = peso [kg] / altura2 [m]) e indique el estado en el que se encuentra esa persona en función del valor de IMC. Crea dos variables denominadas peso y altura.\n",
    "• IMC<16 Criterio de ingreso en hospital\n",
    "• 16<=IMC<17 Infrapeso\n",
    "• 17<=IMC<18 Bajo peso\n",
    "• 18<=IMC<25 Peso OK\n",
    "• 25<=IMC<30 Obesidad Grado 1\n",
    "• 30<=IMC<35 Obesidad Grado II\n",
    "• 35<=IMC<40 I Obesidad Grado III\n",
    "• IMC>=40 Obesidad de Grado 4\n",
    "\n",
    "Haz un programa que calcule el factorial del contenido de la variable argumento. Utiliza bucles for y sentencias if.\n",
    "\n",
    "\n",
    "Crea un programa que devuelva por pantalla, a partir de una variable dada:\n",
    "• Si es posible hacer la conversión a real, el texto Conversión OK y el resultado de la conversión.\n",
    "• Si NO es posible hacer la conversión a real, el texto Imposible Conversión y el contenido de la variable sin convertir."
   ]
  },
  {
   "cell_type": "markdown",
   "metadata": {},
   "source": [
    "---"
   ]
  },
  {
   "cell_type": "markdown",
   "metadata": {},
   "source": [
    "Calculo de la suma de los cuadrados de numeros enteros usando **for** e **if**."
   ]
  },
  {
   "cell_type": "code",
   "execution_count": 43,
   "metadata": {},
   "outputs": [
    {
     "name": "stdout",
     "output_type": "stream",
     "text": [
      "51039\n"
     ]
    }
   ],
   "source": [
    "def sum_squares_int(limit_number:int, range_number:int) -> int:\n",
    "    \"\"\"This function expects a limit_number and a range_number to calculate the square of integers whitin a for. If the limit is reached the for will stop and return the sum of squares.\n",
    "\n",
    "    Args:\n",
    "        limit_number (int): A number that will stop the function when the sum of squares reaches it.\n",
    "        range_number (int): This number will delimitate how many times the for will run.\n",
    "\n",
    "    Returns:\n",
    "        int: The sum of squares\n",
    "    \"\"\"\n",
    "    sum_int = 0\n",
    "    for i in range(range_number):\n",
    "        sum_int += i ** 2\n",
    "        if sum_int >= limit_number:\n",
    "            return sum_int\n",
    "            break\n",
    "    print(sum_int)\n",
    "\n",
    "sum_squares_for = sum_squares_int(limit_number=50000, range_number=99999999)\n",
    "print(sum_squares_for)\n"
   ]
  },
  {
   "cell_type": "markdown",
   "metadata": {},
   "source": [
    "Calculo de la suma de los cuadrados de numeros enteros usando **while**"
   ]
  },
  {
   "cell_type": "code",
   "execution_count": 42,
   "metadata": {},
   "outputs": [
    {
     "name": "stdout",
     "output_type": "stream",
     "text": [
      "51039\n"
     ]
    }
   ],
   "source": [
    "def sum_squares_int(limit_number: int) -> int:\n",
    "    \"\"\"This function expects a limit_number and calculate the sum of squares of integers within a while until the limit_number is reached.\n",
    "\n",
    "    Args:\n",
    "        limit_number (int): A number that will stop the function when the sum of squares reaches it.\n",
    "\n",
    "    Returns:\n",
    "        int: The sum of squares.\n",
    "    \"\"\"\n",
    "    sum_int_2 = 0\n",
    "    i = 0\n",
    "    while sum_int_2 <= limit_number:\n",
    "        sum_int_2 += i ** 2\n",
    "        i += 1\n",
    "    return sum_int_2\n",
    "\n",
    "sum_squares_while = sum_squares_int(limit_number=50000)\n",
    "print(sum_squares_while)"
   ]
  },
  {
   "cell_type": "markdown",
   "metadata": {},
   "source": [
    "Programa que calcula el índice de masa corporal de una persona (IMC = peso [kg] / altura2 [m]) e indique el estado en el que se encuentra esa persona en función del valor de IMC."
   ]
  },
  {
   "cell_type": "code",
   "execution_count": 54,
   "metadata": {},
   "outputs": [
    {
     "name": "stdout",
     "output_type": "stream",
     "text": [
      "(25.61728395061728, 'Overweight I')\n"
     ]
    }
   ],
   "source": [
    "from typing import Tuple\n",
    "\n",
    "def calculate_bmi(user_weight: float, user_height: float) -> Tuple[float, str]:\n",
    "    \"\"\"Expects the weight and height of a person and returns the bmi and a description.\n",
    "\n",
    "    Args:\n",
    "        user_weight (float): The weight of the user in kg\n",
    "        user_height (float): The height of the user in m\n",
    "\n",
    "    Returns:\n",
    "        tuple: The bmi and a description.\n",
    "    \"\"\"\n",
    "    bmi = user_weight / user_height ** 2\n",
    "    \n",
    "    if bmi < 16:\n",
    "        description = \"Hospital asistance required\"\n",
    "    elif bmi < 17:\n",
    "        description = \"Underweight\"\n",
    "    elif bmi < 25:\n",
    "        description = \"Your weight is Ok\"\n",
    "    elif bmi < 30:\n",
    "        description = \"Overweight I\"\n",
    "    elif bmi < 35:\n",
    "        description = \"Overweight II\"\n",
    "    elif bmi < 40:\n",
    "        description = \"Overweight III\"\n",
    "    else:\n",
    "        description = \"Overweight IV\"\n",
    "    return bmi, description\n",
    "\n",
    "weight = float(input(\"What is your weight in KG?\"))\n",
    "height = float(input(\"What is your height in m?\"))\n",
    "bmi = calculate_bmi(weight, height)\n",
    "print(bmi)"
   ]
  },
  {
   "cell_type": "markdown",
   "metadata": {},
   "source": [
    "Un programa que devuelve el factorial de un numero dado. \n",
    "Nota numeros factoriales: que hay que multiplicar todos los números enteros positivos que hay entre ese número y el 1."
   ]
  },
  {
   "cell_type": "code",
   "execution_count": 2,
   "metadata": {},
   "outputs": [
    {
     "name": "stdout",
     "output_type": "stream",
     "text": [
      "24\n"
     ]
    }
   ],
   "source": [
    "def calc_factorial(numr: int) -> int:\n",
    "    \"\"\"A code block that takes a number and returns the factorial of it. A factorial number is the multiplication of all positive numbers from 1 until that number.\n",
    "\n",
    "    Args:\n",
    "        numr (int): An integer number of which we want to calculate the factorial.\n",
    "\n",
    "    Returns:\n",
    "        int: The factorial result.\n",
    "    \"\"\"\n",
    "    factorial = 1\n",
    "    for i in range(1, numr+1):\n",
    "        factorial *= i\n",
    "    return factorial\n",
    "        \n",
    "print(calc_factorial(4))"
   ]
  },
  {
   "cell_type": "markdown",
   "metadata": {},
   "source": [
    "Un programa que devuelve el real de una variable dada"
   ]
  },
  {
   "cell_type": "code",
   "execution_count": 61,
   "metadata": {},
   "outputs": [
    {
     "name": "stdout",
     "output_type": "stream",
     "text": [
      "The transformation has been a success! Your number is 4.0.\n"
     ]
    }
   ],
   "source": [
    "\n",
    "def argument_transformation(num: int) -> str:\n",
    "    \"\"\"A small program that takes an integer number and convert it into float.\n",
    "\n",
    "    Args:\n",
    "        num (int): An integer number\n",
    "\n",
    "    Returns:\n",
    "        str: Returns a strings that contains or not the new number and an informative text.\n",
    "    \"\"\"\n",
    "    if type(num) == int:\n",
    "        num = float(num)\n",
    "        return f\"The transformation has been a success! Your number is {num}.\"\n",
    "    elif type(num) == float:\n",
    "        return f\"Your number is alredy a real number.\"\n",
    "    else:\n",
    "        return f\"There was imposible to transform your number {num}.\"\n",
    "    \n",
    "print(argument_transformation(4))"
   ]
  },
  {
   "cell_type": "markdown",
   "metadata": {},
   "source": []
  }
 ],
 "metadata": {
  "kernelspec": {
   "display_name": "Python 3 (ipykernel)",
   "language": "python",
   "name": "python3"
  },
  "language_info": {
   "codemirror_mode": {
    "name": "ipython",
    "version": 3
   },
   "file_extension": ".py",
   "mimetype": "text/x-python",
   "name": "python",
   "nbconvert_exporter": "python",
   "pygments_lexer": "ipython3",
   "version": "3.8.9"
  }
 },
 "nbformat": 4,
 "nbformat_minor": 4
}
