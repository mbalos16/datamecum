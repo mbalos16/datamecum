{
 "cells": [
  {
   "cell_type": "markdown",
   "metadata": {},
   "source": [
    "<img src=\"datamecum_logo.png\" align=\"right\" style=\"float\" width=\"400\">\n",
    "<font color=\"#CA3532\"><h1 align=\"left\">Programa técnico intensivo en data science. Datamecum.</h1></font>\n",
    "<font color=\"#6E6E6E\"><h2 align=\"left\">Módulo Introducción a Python.</h2></font> \n",
    "<font color=\"#6E6E6E\"><h2 align=\"left\">Tarea 7</h2></font>\n",
    "\n",
    "#### Marcelino Martínez Sober, Juan Gómez-Sanchis\n",
    "##### Alumna: Maria Balos"
   ]
  },
  {
   "cell_type": "markdown",
   "metadata": {},
   "source": [
    "TO DO: \n",
    "\n",
    "Crea un Notebook de Jupiter denominado Tarea7.ipynb para completar los ejercicios propuestos en esta tarea.\n",
    "\n",
    "Crea una lista denominada A que contenga dos strings el primero tu nombre el segundo tu primer apellido. \n",
    "\n",
    "Crea una tupla denominada A_bis que contenga tres strings el primero tu nombre, el segundo tu primer apellido y el tercero tu segundo apellido.\n",
    "- Se puede incorporar un elemento en la tercera posición de A que fuera tu segundo apellido? Cómo lo harías?.\n",
    "- Modifica el tercer elemento de la A añadiendo tu provincia.Puedes hacerlo? Por qué?\n",
    "- Modifica el tercer elemento de la tupla añadiendo tu provincia. Puedes hacerlo? Por qué?\n",
    "\n",
    "Crea una lista B que contenga:\n",
    "- En el primer elemento: La lista A\n",
    "- En el seguindo elemento: La tupla (1,3,5) \n",
    "- En el tercer elemento: La lista [2,4,6]\n",
    "\n",
    "Como accederías a los siguientes elementos de la lista B:\n",
    "- Tu nombre \n",
    "- El número 1 \n",
    "- El número 4\n",
    "\n",
    "Repite el ejercicio pero creando una tupla. ¿Cómo cambia el acceso?. Puedes añadir un elemento adicional de valor 99 entre el 4 y el 6 de la lista.\n",
    "\n",
    "Crea un programa que:\n",
    "- Defina la lista C con el contenido que desees. \n",
    "- Ordene los elementos de C cuando sea posible. Si es posible devolverá por pantalla un texto que informe de Lista ordenada y el resultado en caso contrario devolverá un texto que diga Imposible Ordenación. \n",
    "- Sea o no posible, la conversión, queremos que programa muestre el tipo de dato del primer elemento de la lista."
   ]
  },
  {
   "cell_type": "markdown",
   "metadata": {},
   "source": [
    "Modify a list"
   ]
  },
  {
   "cell_type": "code",
   "execution_count": 29,
   "metadata": {},
   "outputs": [
    {
     "name": "stdout",
     "output_type": "stream",
     "text": [
      "['Maria', 'Balos']\n",
      "Succeess, your list has been updated.\n",
      "['Maria', 'Magdalena', 'Balos']\n",
      "Succeess, your list has been updated.\n",
      "['Maria', 'Magdalena', 'Balos', 'Cambridgeshire']\n"
     ]
    }
   ],
   "source": [
    "A = [\"Maria\", \"Balos\"]\n",
    "A_bis = (\"Maria\", \"Magdalena\", \"Balos\")\n",
    "\n",
    "\n",
    "#Insert an element into a list.\n",
    "print(A)\n",
    "def insert_elem_list(list:list, position:int, new_element) -> str:\n",
    "    modified_list = list.insert(position, new_element)\n",
    "    return \"Succeess, your list has been updated.\"\n",
    "\n",
    "# Insert your middle name in the 2nd position of the A list. \n",
    "# Yes, it is posible, as a list is mutable data type.\n",
    "print(insert_elem_list(A, 1, \"Magdalena\"))\n",
    "print(A)\n",
    "\n",
    "\n",
    "# Insert your location in the 3rd position of the A list.\n",
    "# Yes, it is posible, as a list is mutable data type.\n",
    "print(insert_elem_list(A, 3, \"Cambridgeshire\"))\n",
    "print(A)"
   ]
  },
  {
   "cell_type": "markdown",
   "metadata": {},
   "source": [
    "Access list elements"
   ]
  },
  {
   "cell_type": "code",
   "execution_count": 5,
   "metadata": {},
   "outputs": [
    {
     "name": "stdout",
     "output_type": "stream",
     "text": [
      "[['Maria', 'Magdalena', 'Balos', 'Cambridgeshire'], (1, 2, 3), [2, 4, 6]]\n",
      "Maria\n",
      "1\n",
      "4\n",
      "[['Maria', 'Magdalena', 'Balos', 'Cambridgeshire'], (1, 2, 3), [2, 4, 99, 6]]\n"
     ]
    }
   ],
   "source": [
    "A = ['Maria', 'Magdalena', 'Balos', 'Cambridgeshire']\n",
    "B = [A, (1, 2, 3), [2, 4, 6]]\n",
    "print(B)\n",
    "\n",
    "#Access your name\n",
    "access_name = B[0][0]\n",
    "print(access_name)\n",
    "\n",
    "#Access the number 1\n",
    "number_one = B[1][0]\n",
    "print(number_one)\n",
    "\n",
    "# Access the number 4\n",
    "number_four = B[2][1]\n",
    "print(number_four)\n",
    "\n",
    "#Can you add the number 99 between 4 and 6?\n",
    "B[2].insert(2, 99)\n",
    "print(B)"
   ]
  },
  {
   "cell_type": "markdown",
   "metadata": {},
   "source": [
    "Access a tuple"
   ]
  },
  {
   "cell_type": "code",
   "execution_count": 27,
   "metadata": {},
   "outputs": [
    {
     "name": "stdout",
     "output_type": "stream",
     "text": [
      "(['Maria', 'Magdalena', 'Balos', 'Cambridgeshire'], (1, 2, 3), [2, 4, 6])\n",
      "Maria\n",
      "1\n",
      "4\n"
     ]
    }
   ],
   "source": [
    "A = ['Maria', 'Magdalena', 'Balos', 'Cambridgeshire']\n",
    "B = (A, (1, 2, 3), [2, 4, 6])\n",
    "print(B)\n",
    "\n",
    "#Access your name\n",
    "access_name = B[0][0]\n",
    "print(access_name)\n",
    "\n",
    "#Access the number 1\n",
    "number_one = B[1][0]\n",
    "print(number_one)\n",
    "\n",
    "# Access the number 4\n",
    "number_four = B[2][1]\n",
    "print(number_four)\n",
    "\n",
    "#Can you add the number 99 between 4 and 6?\n",
    "# No - it is a tuple so is limited."
   ]
  },
  {
   "cell_type": "markdown",
   "metadata": {},
   "source": [
    "Create a program that takes a list and sort it. Take into account the errors this might cause."
   ]
  },
  {
   "cell_type": "code",
   "execution_count": 49,
   "metadata": {},
   "outputs": [
    {
     "name": "stdout",
     "output_type": "stream",
     "text": [
      "The list: ['a', 7, 8, 9, 5] is imposible to sort.\n",
      "List sorted: [1, 3, 3, 5, 7, 20]\n"
     ]
    }
   ],
   "source": [
    "C = [\"a\",7, 8, 9, 5]\n",
    "D  = [1, 5, 3, 7, 20, 3]\n",
    "\n",
    "def order_list(given_list: list) -> str:\n",
    "    \"\"\"A function that takes a list and sort it.\n",
    "\n",
    "    Args:\n",
    "        given_list (list): A given list to sort\n",
    "\n",
    "    Returns:\n",
    "        str: Returns an informative list and the resulted list.\n",
    "    \"\"\"\n",
    "    try:\n",
    "        given_list.sort()\n",
    "        return f\"List sorted: {given_list}\"\n",
    "    except TypeError: \n",
    "        return f\"The list: {given_list} is imposible to sort.\"\n",
    "    \n",
    "\n",
    "print(order_list(C))\n",
    "print(order_list(D))\n",
    "\n"
   ]
  }
 ],
 "metadata": {
  "kernelspec": {
   "display_name": "Python 3 (ipykernel)",
   "language": "python",
   "name": "python3"
  },
  "language_info": {
   "codemirror_mode": {
    "name": "ipython",
    "version": 3
   },
   "file_extension": ".py",
   "mimetype": "text/x-python",
   "name": "python",
   "nbconvert_exporter": "python",
   "pygments_lexer": "ipython3",
   "version": "3.8.9"
  }
 },
 "nbformat": 4,
 "nbformat_minor": 4
}
