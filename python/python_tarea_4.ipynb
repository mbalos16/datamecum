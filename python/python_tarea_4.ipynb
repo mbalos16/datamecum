{
 "cells": [
  {
   "cell_type": "markdown",
   "metadata": {},
   "source": [
    "<img src=\"datamecum_logo.png\" align=\"right\" style=\"float\" width=\"400\">\n",
    "<font color=\"#CA3532\"><h1 align=\"left\">Programa técnico intensivo en data science. Datamecum.</h1></font>\n",
    "<font color=\"#6E6E6E\"><h2 align=\"left\">Módulo Introducción a Python.</h2></font> \n",
    "<font color=\"#6E6E6E\"><h2 align=\"left\">Tarea 4</h2></font>\n",
    "\n",
    "#### Marcelino Martínez Sober, Juan Gómez-Sanchis\n",
    "##### Alumna: Maria Balos"
   ]
  },
  {
   "cell_type": "markdown",
   "metadata": {},
   "source": [
    "TO DO: *Escribe un programa (Jupiter notebook) que solicite al usuario las notas de:\n",
    "• Lengua\n",
    "• Matemáticas \n",
    "• Programación en Python\n",
    "\n",
    "Y calcule la nota media sabiendo que no todas ellas tienen el mismo peso sobre la nota final.\n",
    "\n",
    "•34% Lengua\n",
    "•30% Matemáticas\n",
    "•36% Programación en Python\n",
    "\n",
    "El programa debe sacar por pantalla cada una de las notas, su porcentaje sobre la nota final y la nota final*"
   ]
  },
  {
   "cell_type": "markdown",
   "metadata": {},
   "source": [
    "---"
   ]
  },
  {
   "cell_type": "markdown",
   "metadata": {},
   "source": [
    "Calculate the average of a grade."
   ]
  },
  {
   "cell_type": "code",
   "execution_count": 1,
   "metadata": {},
   "outputs": [],
   "source": [
    "def calculate_average(grade_language, grade_maths, grade_python):\n",
    "    language = 0.34*grade_language\n",
    "    maths = 0.30* grade_maths\n",
    "    python = 0.36 * grade_python\n",
    "    average = language + maths + python\n",
    "    return average"
   ]
  },
  {
   "cell_type": "markdown",
   "metadata": {},
   "source": [
    "Print a title for this program."
   ]
  },
  {
   "cell_type": "code",
   "execution_count": 2,
   "metadata": {
    "scrolled": true
   },
   "outputs": [
    {
     "name": "stdout",
     "output_type": "stream",
     "text": [
      "\n",
      "//    #####                                                                                                      \n",
      "//   #     # #####    ##   #####  ######     ####    ##   #       ####  #    # #        ##   #####  ####  #####  \n",
      "//   #       #    #  #  #  #    # #         #    #  #  #  #      #    # #    # #       #  #    #   #    # #    # \n",
      "//   #  #### #    # #    # #    # #####     #      #    # #      #      #    # #      #    #   #   #    # #    # \n",
      "//   #     # #####  ###### #    # #         #      ###### #      #      #    # #      ######   #   #    # #####  \n",
      "//   #     # #   #  #    # #    # #         #    # #    # #      #    # #    # #      #    #   #   #    # #   #  \n",
      "//    #####  #    # #    # #####  ######     ####  #    # ######  ####   ####  ###### #    #   #    ####  #    # \n",
      "//                                                                                                               \n",
      "\n",
      "\n"
     ]
    }
   ],
   "source": [
    "text = '''\n",
    "//    #####                                                                                                      \n",
    "//   #     # #####    ##   #####  ######     ####    ##   #       ####  #    # #        ##   #####  ####  #####  \n",
    "//   #       #    #  #  #  #    # #         #    #  #  #  #      #    # #    # #       #  #    #   #    # #    # \n",
    "//   #  #### #    # #    # #    # #####     #      #    # #      #      #    # #      #    #   #   #    # #    # \n",
    "//   #     # #####  ###### #    # #         #      ###### #      #      #    # #      ######   #   #    # #####  \n",
    "//   #     # #   #  #    # #    # #         #    # #    # #      #    # #    # #      #    #   #   #    # #   #  \n",
    "//    #####  #    # #    # #####  ######     ####  #    # ######  ####   ####  ###### #    #   #    ####  #    # \n",
    "//                                                                                                               \n",
    "\n",
    "'''\n",
    "print(text)"
   ]
  },
  {
   "cell_type": "markdown",
   "metadata": {},
   "source": [
    "Ask the user for the grade for the different subjects."
   ]
  },
  {
   "cell_type": "code",
   "execution_count": 3,
   "metadata": {},
   "outputs": [
    {
     "name": "stdout",
     "output_type": "stream",
     "text": [
      "Please insert your grade for language subject over 10:   3\n",
      "Please insert your grade for mathematics subject over 10:  5\n",
      "Please insert your grade for python subject over 10:  8\n"
     ]
    }
   ],
   "source": [
    "grade_language = float(input('Please insert your grade for language subject over 10:  '))\n",
    "grade_maths = float(input('Please insert your grade for mathematics subject over 10: '))\n",
    "grade_python = float(input('Please insert your grade for python subject over 10: '))"
   ]
  },
  {
   "cell_type": "markdown",
   "metadata": {},
   "source": [
    "Print the grade and the average with a personalized text based on the result."
   ]
  },
  {
   "cell_type": "code",
   "execution_count": 5,
   "metadata": {},
   "outputs": [
    {
     "name": "stdout",
     "output_type": "stream",
     "text": [
      "You're grade for language is: 3.0 and has an porcentage of your average note of 34%\n",
      "You're grade for maths is: 5.0 and has an porcentage of your average note of 30%\n",
      "You're grade for python language is: 8.0 and has an porcentage of your average note of 36%.\n",
      "🚁 Well done! You average score is: 5.4\n"
     ]
    }
   ],
   "source": [
    "print(f\"You're grade for language is: {grade_language} and has an porcentage of your average note of 34%\\nYou're grade for maths is: {grade_maths} and has an porcentage of your average note of 30%\\nYou're grade for python language is: {grade_python} and has an porcentage of your average note of 36%.\")\n",
    "average = calculate_average(grade_language,grade_maths, grade_python)\n",
    "if average > 8:\n",
    "    print(f\"🚀 Congratulations! You average score is: {average}\")\n",
    "elif average >= 5:\n",
    "    print(f\"🚁 Well done! You average score is: {average}\")\n",
    "else:\n",
    "    print(f\"🪂 You might need some help to survive to this! You average score is: {average}\")"
   ]
  }
 ],
 "metadata": {
  "kernelspec": {
   "display_name": "Python 3 (ipykernel)",
   "language": "python",
   "name": "python3"
  },
  "language_info": {
   "codemirror_mode": {
    "name": "ipython",
    "version": 3
   },
   "file_extension": ".py",
   "mimetype": "text/x-python",
   "name": "python",
   "nbconvert_exporter": "python",
   "pygments_lexer": "ipython3",
   "version": "3.11.5"
  }
 },
 "nbformat": 4,
 "nbformat_minor": 4
}
